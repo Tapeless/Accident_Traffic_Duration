{
 "cells": [
  {
   "cell_type": "code",
   "execution_count": 177,
   "id": "cd44f032-f157-499e-b89b-10412e03fdd9",
   "metadata": {},
   "outputs": [],
   "source": [
    "import numpy as np\n",
    "import pandas as pd\n",
    "import xgboost as xgb\n",
    "import joblib\n",
    "\n",
    "from sklearn.preprocessing import OneHotEncoder, OrdinalEncoder\n",
    "from sklearn.model_selection import GridSearchCV, train_test_split\n",
    "from sklearn.pipeline import Pipeline\n",
    "from sklearn.ensemble import GradientBoostingRegressor\n",
    "from sklearn.linear_model import LinearRegression\n",
    "from sklearn.metrics import r2_score\n",
    "from sklearn.metrics import accuracy_score"
   ]
  },
  {
   "cell_type": "code",
   "execution_count": 178,
   "id": "f6eff66b-0c9e-4e5c-b88f-1e9d026ea73e",
   "metadata": {},
   "outputs": [],
   "source": [
    "#import data\n",
    "df = pd.read_csv('cleaned_data.csv',index_col=\"Unnamed: 0\")"
   ]
  },
  {
   "cell_type": "code",
   "execution_count": 5,
   "id": "aca9e243-4a28-4517-b95d-bbe868727f3f",
   "metadata": {},
   "outputs": [],
   "source": [
    "#columns we want to keep for our model\n",
    "features = [\"Temperature(F)\", \"Visibility(mi)\", \"Wind_Speed(mph)\",\n",
    "\"Precipitation(in)\", \"weather\", \"Junction\", \"Stop\", \"Traffic_Signal\",\n",
    "\"Sunrise_Sunset\", \"Day\", \"Hour\", \"Station\", \"Give_Way\", \"Crossing\", \"Railway\"]\n",
    "\n",
    "val_to_predict = [\"duration(min)\"]"
   ]
  },
  {
   "cell_type": "code",
   "execution_count": 6,
   "id": "df9b35bf-b7e9-4690-9cb6-ee61a1aee833",
   "metadata": {},
   "outputs": [],
   "source": [
    "#encode categoricals for weather, junction, stop, traffic_signal, sunrise_sunset, day, hour\n",
    "categorical = [\"weather\",\"Junction\",\"Stop\",\"Traffic_Signal\",\"Sunrise_Sunset\",\"Day\",\"Hour\",\"Station\", \"Give_Way\", \"Crossing\", \"Railway\"]"
   ]
  },
  {
   "cell_type": "code",
   "execution_count": 7,
   "id": "95bf5217-41f5-4621-b984-381c7c5f83a9",
   "metadata": {},
   "outputs": [],
   "source": [
    "X = df[features]\n",
    "Y = df[val_to_predict]"
   ]
  },
  {
   "cell_type": "code",
   "execution_count": 8,
   "id": "b61f50be-810d-4fd0-9396-2ba80d1079e1",
   "metadata": {},
   "outputs": [],
   "source": [
    "X = X.join(pd.get_dummies(df[categorical]),lsuffix=\"ohe_\")\n",
    "X = X.drop(labels=categorical, axis=1)"
   ]
  },
  {
   "cell_type": "code",
   "execution_count": 9,
   "id": "4fde6802-f06c-4937-ae78-a359288bf0a5",
   "metadata": {},
   "outputs": [],
   "source": [
    "X_train, X_test, Y_train, Y_test = train_test_split(X, Y)"
   ]
  },
  {
   "cell_type": "code",
   "execution_count": 10,
   "id": "8587325b-55d8-4452-89ba-786ca518528a",
   "metadata": {},
   "outputs": [],
   "source": [
    "reg = GradientBoostingRegressor(random_state=42)"
   ]
  },
  {
   "cell_type": "code",
   "execution_count": 11,
   "id": "b7e1c310-7225-4317-bdfc-3bff26219f36",
   "metadata": {},
   "outputs": [
    {
     "name": "stderr",
     "output_type": "stream",
     "text": [
      "/Users/brendo/miniconda3/lib/python3.9/site-packages/sklearn/ensemble/_gb.py:570: DataConversionWarning: A column-vector y was passed when a 1d array was expected. Please change the shape of y to (n_samples, ), for example using ravel().\n",
      "  y = column_or_1d(y, warn=True)\n"
     ]
    },
    {
     "data": {
      "text/html": [
       "<style>#sk-container-id-1 {color: black;background-color: white;}#sk-container-id-1 pre{padding: 0;}#sk-container-id-1 div.sk-toggleable {background-color: white;}#sk-container-id-1 label.sk-toggleable__label {cursor: pointer;display: block;width: 100%;margin-bottom: 0;padding: 0.3em;box-sizing: border-box;text-align: center;}#sk-container-id-1 label.sk-toggleable__label-arrow:before {content: \"▸\";float: left;margin-right: 0.25em;color: #696969;}#sk-container-id-1 label.sk-toggleable__label-arrow:hover:before {color: black;}#sk-container-id-1 div.sk-estimator:hover label.sk-toggleable__label-arrow:before {color: black;}#sk-container-id-1 div.sk-toggleable__content {max-height: 0;max-width: 0;overflow: hidden;text-align: left;background-color: #f0f8ff;}#sk-container-id-1 div.sk-toggleable__content pre {margin: 0.2em;color: black;border-radius: 0.25em;background-color: #f0f8ff;}#sk-container-id-1 input.sk-toggleable__control:checked~div.sk-toggleable__content {max-height: 200px;max-width: 100%;overflow: auto;}#sk-container-id-1 input.sk-toggleable__control:checked~label.sk-toggleable__label-arrow:before {content: \"▾\";}#sk-container-id-1 div.sk-estimator input.sk-toggleable__control:checked~label.sk-toggleable__label {background-color: #d4ebff;}#sk-container-id-1 div.sk-label input.sk-toggleable__control:checked~label.sk-toggleable__label {background-color: #d4ebff;}#sk-container-id-1 input.sk-hidden--visually {border: 0;clip: rect(1px 1px 1px 1px);clip: rect(1px, 1px, 1px, 1px);height: 1px;margin: -1px;overflow: hidden;padding: 0;position: absolute;width: 1px;}#sk-container-id-1 div.sk-estimator {font-family: monospace;background-color: #f0f8ff;border: 1px dotted black;border-radius: 0.25em;box-sizing: border-box;margin-bottom: 0.5em;}#sk-container-id-1 div.sk-estimator:hover {background-color: #d4ebff;}#sk-container-id-1 div.sk-parallel-item::after {content: \"\";width: 100%;border-bottom: 1px solid gray;flex-grow: 1;}#sk-container-id-1 div.sk-label:hover label.sk-toggleable__label {background-color: #d4ebff;}#sk-container-id-1 div.sk-serial::before {content: \"\";position: absolute;border-left: 1px solid gray;box-sizing: border-box;top: 0;bottom: 0;left: 50%;z-index: 0;}#sk-container-id-1 div.sk-serial {display: flex;flex-direction: column;align-items: center;background-color: white;padding-right: 0.2em;padding-left: 0.2em;position: relative;}#sk-container-id-1 div.sk-item {position: relative;z-index: 1;}#sk-container-id-1 div.sk-parallel {display: flex;align-items: stretch;justify-content: center;background-color: white;position: relative;}#sk-container-id-1 div.sk-item::before, #sk-container-id-1 div.sk-parallel-item::before {content: \"\";position: absolute;border-left: 1px solid gray;box-sizing: border-box;top: 0;bottom: 0;left: 50%;z-index: -1;}#sk-container-id-1 div.sk-parallel-item {display: flex;flex-direction: column;z-index: 1;position: relative;background-color: white;}#sk-container-id-1 div.sk-parallel-item:first-child::after {align-self: flex-end;width: 50%;}#sk-container-id-1 div.sk-parallel-item:last-child::after {align-self: flex-start;width: 50%;}#sk-container-id-1 div.sk-parallel-item:only-child::after {width: 0;}#sk-container-id-1 div.sk-dashed-wrapped {border: 1px dashed gray;margin: 0 0.4em 0.5em 0.4em;box-sizing: border-box;padding-bottom: 0.4em;background-color: white;}#sk-container-id-1 div.sk-label label {font-family: monospace;font-weight: bold;display: inline-block;line-height: 1.2em;}#sk-container-id-1 div.sk-label-container {text-align: center;}#sk-container-id-1 div.sk-container {/* jupyter's `normalize.less` sets `[hidden] { display: none; }` but bootstrap.min.css set `[hidden] { display: none !important; }` so we also need the `!important` here to be able to override the default hidden behavior on the sphinx rendered scikit-learn.org. See: https://github.com/scikit-learn/scikit-learn/issues/21755 */display: inline-block !important;position: relative;}#sk-container-id-1 div.sk-text-repr-fallback {display: none;}</style><div id=\"sk-container-id-1\" class=\"sk-top-container\"><div class=\"sk-text-repr-fallback\"><pre>GradientBoostingRegressor(random_state=42)</pre><b>In a Jupyter environment, please rerun this cell to show the HTML representation or trust the notebook. <br />On GitHub, the HTML representation is unable to render, please try loading this page with nbviewer.org.</b></div><div class=\"sk-container\" hidden><div class=\"sk-item\"><div class=\"sk-estimator sk-toggleable\"><input class=\"sk-toggleable__control sk-hidden--visually\" id=\"sk-estimator-id-1\" type=\"checkbox\" checked><label for=\"sk-estimator-id-1\" class=\"sk-toggleable__label sk-toggleable__label-arrow\">GradientBoostingRegressor</label><div class=\"sk-toggleable__content\"><pre>GradientBoostingRegressor(random_state=42)</pre></div></div></div></div></div>"
      ],
      "text/plain": [
       "GradientBoostingRegressor(random_state=42)"
      ]
     },
     "execution_count": 11,
     "metadata": {},
     "output_type": "execute_result"
    }
   ],
   "source": [
    "reg.fit(X_train, Y_train)"
   ]
  },
  {
   "cell_type": "code",
   "execution_count": 12,
   "id": "9e255c85-eeb1-44a4-b3d5-7dc819ce57c8",
   "metadata": {},
   "outputs": [],
   "source": [
    "Y_pred = reg.predict(X_test)"
   ]
  },
  {
   "cell_type": "code",
   "execution_count": 13,
   "id": "3189afd6-6d22-485f-ab86-f55246ec77af",
   "metadata": {},
   "outputs": [
    {
     "data": {
      "text/plain": [
       "0.07761198328224106"
      ]
     },
     "execution_count": 13,
     "metadata": {},
     "output_type": "execute_result"
    }
   ],
   "source": [
    "reg.score(X_test, Y_test)"
   ]
  },
  {
   "cell_type": "code",
   "execution_count": 14,
   "id": "d2cdae05-9836-447b-bcc6-eef3b6280d00",
   "metadata": {},
   "outputs": [
    {
     "data": {
      "text/plain": [
       "0.07744840234713746"
      ]
     },
     "execution_count": 14,
     "metadata": {},
     "output_type": "execute_result"
    }
   ],
   "source": [
    "reg.score(X_train, Y_train)"
   ]
  },
  {
   "cell_type": "markdown",
   "id": "fc9b043c-1811-49fd-a7e8-4522d601b625",
   "metadata": {},
   "source": [
    "### Changing to classification\n",
    "#### The goal of this model is to be able to predict when an accident will be clear, in an application such as computing optimal route a couple hours in the future. \n",
    "#### We don't need to know the exact time it will take, so instead, we can bin the duration in a few relevant categories and see if performance improves."
   ]
  },
  {
   "cell_type": "code",
   "execution_count": 15,
   "id": "ea522628-0ea4-48ee-ac15-0e7855a10a65",
   "metadata": {},
   "outputs": [],
   "source": [
    "#create new ETA column based off of duration(min) val\n",
    "#15mins or less = 0\n",
    "#15-30mins = 1\n",
    "#30mins-1hr = 2\n",
    "#1-3hr = 3\n",
    "#3hr-6hr = 4\n",
    "#rest of day = 5\n",
    "df['ETA'] = 0\n",
    "df.loc[df['duration(min)'] <= 15, 'ETA'] = 0 \n",
    "df.loc[(df['duration(min)'] <= 30) & (df[\"duration(min)\"] > 15), 'ETA'] = 1\n",
    "df.loc[(df['duration(min)'] <= 60) & (df[\"duration(min)\"] > 30), 'ETA'] = 2\n",
    "df.loc[(df['duration(min)'] <= 180) & (df[\"duration(min)\"] > 60), 'ETA'] = 3\n",
    "df.loc[(df['duration(min)'] <= 360) & (df[\"duration(min)\"] > 180), 'ETA'] = 4\n",
    "df.loc[df['duration(min)'] > 360, 'ETA'] = 5"
   ]
  },
  {
   "cell_type": "code",
   "execution_count": 17,
   "id": "c22f687c-c754-45ea-b2d5-9a193041cb0b",
   "metadata": {},
   "outputs": [],
   "source": [
    "#functionize encoding\n",
    "def prep_data(df):\n",
    "    cat_vals = [\"weather\", \"Junction\", \"Stop\", \"Traffic_Signal\", \"Sunrise_Sunset\", \"Day\", \"Hour\", \"Station\", \"Give_Way\", \"Crossing\", \"Railway\"]\n",
    "    con_vals = [\"Visibility(mi)\", \"Precipitation(in)\", \"Temperature(F)\", \"Wind_Speed(mph)\"]\n",
    "    x = df[cat_vals+con_vals]\n",
    "    y = df['ETA']\n",
    "    x = x.join(pd.get_dummies(df[cat_vals]),lsuffix=\"_ohe\")\n",
    "    x = x.drop(labels=cat_vals, axis=1)\n",
    "    y = np.array(y).ravel()\n",
    "    x_train, x_test, y_train, y_test = train_test_split(x, y, train_size=0.8)\n",
    "    \n",
    "    return x_train, x_test, y_train, y_test"
   ]
  },
  {
   "cell_type": "code",
   "execution_count": 18,
   "id": "151b4fe6-b60e-46da-abe8-86a038b796d9",
   "metadata": {},
   "outputs": [],
   "source": [
    "x_train, x_test, y_train, y_test = prep_data(df)"
   ]
  },
  {
   "cell_type": "code",
   "execution_count": 19,
   "id": "862d7ab4-ce77-40d5-be70-3bf6401a6959",
   "metadata": {},
   "outputs": [],
   "source": [
    "#set XGBoost params, objects\n",
    "train = xgb.DMatrix(data=x_train, label=y_train)\n",
    "test = xgb.DMatrix(data=x_test, label=y_test)\n",
    "params = {\n",
    "    \"eta\" : 0.05,\n",
    "    \"objective\" : \"multi:softprob\",\n",
    "    \"num_class\" : 6,\n",
    "    \"max_depth\" : 15,\n",
    "    }\n",
    "epochs = 50"
   ]
  },
  {
   "cell_type": "code",
   "execution_count": 20,
   "id": "d7dbeb4a-7e56-40f8-86ec-b33d5898de09",
   "metadata": {},
   "outputs": [],
   "source": [
    "model = xgb.train(params, train, epochs)"
   ]
  },
  {
   "cell_type": "code",
   "execution_count": 21,
   "id": "922c1217-3044-41d7-b147-f37292946e98",
   "metadata": {},
   "outputs": [],
   "source": [
    "y_pred = model.predict(test)"
   ]
  },
  {
   "cell_type": "code",
   "execution_count": 22,
   "id": "f953f57c-4cdd-4c15-b83e-00326253445d",
   "metadata": {},
   "outputs": [
    {
     "data": {
      "text/plain": [
       "0.5918028294090278"
      ]
     },
     "execution_count": 22,
     "metadata": {},
     "output_type": "execute_result"
    }
   ],
   "source": [
    "accuracy_score(y_test, np.argmax(y_pred,axis=1))"
   ]
  },
  {
   "cell_type": "code",
   "execution_count": 23,
   "id": "e668a1bc-895d-40fc-87fb-7e4e9a742bc3",
   "metadata": {},
   "outputs": [
    {
     "data": {
      "text/plain": [
       "Temperature(F)        548277.0\n",
       "Wind_Speed(mph)       352448.0\n",
       "Hour_ohe              225630.0\n",
       "Visibility(mi)        185536.0\n",
       "Precipitation(in)      98096.0\n",
       "weather_cloudy         45865.0\n",
       "Day_Thursday           38526.0\n",
       "Day_Friday             38249.0\n",
       "Day_Monday             37062.0\n",
       "Day_Wednesday          36857.0\n",
       "Day_Tuesday            35804.0\n",
       "Crossing_ohe           34481.0\n",
       "weather_fair           34104.0\n",
       "Day_Saturday           30417.0\n",
       "Day_Sunday             28783.0\n",
       "Station_ohe            20295.0\n",
       "weather_rain           19069.0\n",
       "Traffic_Signal_ohe     18332.0\n",
       "Junction_ohe           17816.0\n",
       "Stop_ohe               13916.0\n",
       "Railway_ohe            13282.0\n",
       "weather_fog            11093.0\n",
       "Sunrise_Sunset_Day      8969.0\n",
       "weather_storm           6887.0\n",
       "weather_snow            5288.0\n",
       "Give_Way_ohe            4983.0\n",
       "weather_smoke           4119.0\n",
       "weather_windy           3883.0\n",
       "weather_dust             405.0\n",
       "weather_hail               7.0\n",
       "dtype: float64"
      ]
     },
     "execution_count": 23,
     "metadata": {},
     "output_type": "execute_result"
    }
   ],
   "source": [
    "pd.Series(model.get_score()).sort_values(ascending=False)"
   ]
  },
  {
   "cell_type": "markdown",
   "id": "5fc2850f-3703-4a17-89be-6a07d64d207a",
   "metadata": {},
   "source": [
    "##### This seems much better, and we can see our feature importance! Visibility, Hour of the day, and Precipitation seem to be our most important features.\n",
    "##### Below, I use gridsearchCV to find best hyperparameters, then export the model."
   ]
  },
  {
   "cell_type": "code",
   "execution_count": 24,
   "id": "c10fcf00-9fae-473a-9f69-fc5b990f7733",
   "metadata": {},
   "outputs": [],
   "source": [
    "estimator = xgb.XGBClassifier(objective=\"multi:softprob\",\n",
    "                             seed=42)\n",
    "params = {\n",
    "    \"max_depth\" : range(2, 20, 4),\n",
    "    \"n_estimators\" : range(50, 250, 50),\n",
    "    \"learning_rate\" : [0.2, 0.1, 0.05]\n",
    "}"
   ]
  },
  {
   "cell_type": "code",
   "execution_count": 25,
   "id": "add4f7fa-6251-4bc1-8eae-a1ef20e623c6",
   "metadata": {},
   "outputs": [],
   "source": [
    "grid_search = GridSearchCV(\n",
    "    estimator=estimator,\n",
    "    param_grid=params,\n",
    "    n_jobs = -1,\n",
    "    cv = 2,\n",
    "    verbose=3\n",
    ")"
   ]
  },
  {
   "cell_type": "code",
   "execution_count": 26,
   "id": "240365e4-fb1d-4368-845f-40c2833b4bc8",
   "metadata": {},
   "outputs": [
    {
     "name": "stdout",
     "output_type": "stream",
     "text": [
      "Fitting 2 folds for each of 60 candidates, totalling 120 fits\n",
      "[CV 1/2] END learning_rate=0.2, max_depth=6, n_estimators=100;, score=0.592 total time=264.7min\n",
      "[CV 2/2] END learning_rate=0.2, max_depth=14, n_estimators=100;, score=0.598 total time=207.1min\n",
      "[CV 2/2] END learning_rate=0.1, max_depth=2, n_estimators=50;, score=0.565 total time= 8.3min\n",
      "[CV 2/2] END learning_rate=0.1, max_depth=2, n_estimators=100;, score=0.569 total time=16.7min\n",
      "[CV 2/2] END learning_rate=0.1, max_depth=6, n_estimators=50;, score=0.584 total time=24.9min\n",
      "[CV 2/2] END learning_rate=0.1, max_depth=6, n_estimators=200;, score=0.592 total time=101.7min\n",
      "[CV 1/2] END learning_rate=0.1, max_depth=14, n_estimators=150;, score=0.598 total time=209.5min\n",
      "[CV 1/2] END learning_rate=0.05, max_depth=10, n_estimators=50;, score=0.585 total time=44.5min\n",
      "[CV 1/2] END learning_rate=0.05, max_depth=10, n_estimators=200;, score=0.594 total time=170.5min\n",
      "[CV 1/2] END learning_rate=0.2, max_depth=6, n_estimators=200;, score=0.593 total time=377.7min\n",
      "[CV 1/2] END learning_rate=0.2, max_depth=18, n_estimators=50;, score=0.598 total time=105.6min\n",
      "[CV 2/2] END learning_rate=0.1, max_depth=2, n_estimators=150;, score=0.577 total time=24.5min\n",
      "[CV 2/2] END learning_rate=0.1, max_depth=6, n_estimators=100;, score=0.589 total time=54.6min\n",
      "[CV 2/2] END learning_rate=0.1, max_depth=10, n_estimators=100;, score=0.594 total time=107.7min\n",
      "[CV 1/2] END learning_rate=0.1, max_depth=14, n_estimators=200;, score=0.599 total time=246.3min\n",
      "[CV 2/2] END learning_rate=0.05, max_depth=14, n_estimators=100;, score=0.594 total time=131.7min\n",
      "[CV 2/2] END learning_rate=0.2, max_depth=2, n_estimators=50;, score=0.570 total time= 9.8min\n",
      "[CV 1/2] END learning_rate=0.2, max_depth=10, n_estimators=50;, score=0.594 total time=259.1min\n",
      "[CV 1/2] END learning_rate=0.2, max_depth=14, n_estimators=150;, score=0.600 total time=267.3min\n",
      "[CV 1/2] END learning_rate=0.1, max_depth=10, n_estimators=50;, score=0.590 total time=51.0min\n",
      "[CV 1/2] END learning_rate=0.1, max_depth=10, n_estimators=200;, score=0.595 total time=189.9min\n",
      "[CV 2/2] END learning_rate=0.05, max_depth=2, n_estimators=100;, score=0.565 total time=15.7min\n",
      "[CV 2/2] END learning_rate=0.05, max_depth=2, n_estimators=200;, score=0.569 total time=30.7min\n",
      "[CV 2/2] END learning_rate=0.05, max_depth=6, n_estimators=150;, score=0.586 total time=71.5min\n",
      "[CV 2/2] END learning_rate=0.05, max_depth=14, n_estimators=50;, score=0.590 total time=67.0min\n",
      "[CV 2/2] END learning_rate=0.05, max_depth=18, n_estimators=50;, score=0.593 total time=92.2min\n",
      "[CV 1/2] END learning_rate=0.2, max_depth=2, n_estimators=50;, score=0.570 total time= 9.8min\n",
      "[CV 2/2] END learning_rate=0.2, max_depth=10, n_estimators=50;, score=0.594 total time=259.1min\n",
      "[CV 2/2] END learning_rate=0.2, max_depth=14, n_estimators=150;, score=0.600 total time=267.4min\n",
      "[CV 2/2] END learning_rate=0.1, max_depth=10, n_estimators=50;, score=0.589 total time=51.1min\n",
      "[CV 2/2] END learning_rate=0.1, max_depth=10, n_estimators=200;, score=0.595 total time=189.6min\n",
      "[CV 1/2] END learning_rate=0.05, max_depth=2, n_estimators=100;, score=0.565 total time=15.8min\n",
      "[CV 1/2] END learning_rate=0.05, max_depth=2, n_estimators=200;, score=0.569 total time=30.7min\n",
      "[CV 1/2] END learning_rate=0.05, max_depth=6, n_estimators=150;, score=0.587 total time=71.5min\n",
      "[CV 1/2] END learning_rate=0.05, max_depth=14, n_estimators=50;, score=0.588 total time=67.0min\n",
      "[CV 1/2] END learning_rate=0.05, max_depth=18, n_estimators=50;, score=0.593 total time=92.3min\n",
      "[CV 1/2] END learning_rate=0.2, max_depth=2, n_estimators=100;, score=0.579 total time=31.1min\n",
      "[CV 1/2] END learning_rate=0.2, max_depth=10, n_estimators=100;, score=0.596 total time=352.6min\n",
      "[CV 2/2] END learning_rate=0.2, max_depth=18, n_estimators=150;, score=0.599 total time=290.1min\n",
      "[CV 1/2] END learning_rate=0.1, max_depth=18, n_estimators=50;, score=0.596 total time=95.2min\n",
      "[CV 1/2] END learning_rate=0.1, max_depth=18, n_estimators=200;, score=0.600 total time=316.1min\n",
      "[CV 2/2] END learning_rate=0.2, max_depth=2, n_estimators=100;, score=0.581 total time=31.2min\n",
      "[CV 2/2] END learning_rate=0.2, max_depth=10, n_estimators=100;, score=0.595 total time=352.6min\n",
      "[CV 1/2] END learning_rate=0.2, max_depth=18, n_estimators=150;, score=0.599 total time=290.9min\n",
      "[CV 2/2] END learning_rate=0.1, max_depth=18, n_estimators=50;, score=0.596 total time=95.0min\n",
      "[CV 2/2] END learning_rate=0.1, max_depth=18, n_estimators=200;, score=0.600 total time=315.7min\n",
      "[CV 2/2] END learning_rate=0.2, max_depth=2, n_estimators=150;, score=0.585 total time=106.2min\n",
      "[CV 1/2] END learning_rate=0.2, max_depth=10, n_estimators=150;, score=0.596 total time=325.4min\n",
      "[CV 1/2] END learning_rate=0.2, max_depth=18, n_estimators=200;, score=0.597 total time=370.3min\n",
      "[CV 1/2] END learning_rate=0.05, max_depth=6, n_estimators=50;, score=0.571 total time=24.0min\n",
      "[CV 1/2] END learning_rate=0.05, max_depth=6, n_estimators=200;, score=0.589 total time=94.5min\n",
      "[CV 1/2] END learning_rate=0.05, max_depth=14, n_estimators=150;, score=0.596 total time=175.6min\n",
      "[CV 1/2] END learning_rate=0.2, max_depth=6, n_estimators=150;, score=0.593 total time=330.9min\n",
      "[CV 1/2] END learning_rate=0.2, max_depth=14, n_estimators=200;, score=0.600 total time=289.1min\n",
      "[CV 1/2] END learning_rate=0.1, max_depth=14, n_estimators=100;, score=0.597 total time=151.2min\n",
      "[CV 1/2] END learning_rate=0.05, max_depth=2, n_estimators=50;, score=0.564 total time= 8.1min\n",
      "[CV 1/2] END learning_rate=0.05, max_depth=2, n_estimators=150;, score=0.566 total time=23.2min\n",
      "[CV 2/2] END learning_rate=0.05, max_depth=6, n_estimators=50;, score=0.574 total time=24.0min\n",
      "[CV 2/2] END learning_rate=0.05, max_depth=6, n_estimators=200;, score=0.588 total time=94.7min\n",
      "[CV 2/2] END learning_rate=0.05, max_depth=14, n_estimators=150;, score=0.596 total time=175.2min\n",
      "[CV 1/2] END learning_rate=0.2, max_depth=2, n_estimators=200;, score=0.588 total time=114.7min\n",
      "[CV 2/2] END learning_rate=0.2, max_depth=14, n_estimators=50;, score=0.597 total time=265.3min\n",
      "[CV 1/2] END learning_rate=0.2, max_depth=18, n_estimators=100;, score=0.599 total time=192.0min\n",
      "[CV 2/2] END learning_rate=0.1, max_depth=10, n_estimators=150;, score=0.595 total time=149.2min\n",
      "[CV 1/2] END learning_rate=0.1, max_depth=18, n_estimators=150;, score=0.599 total time=253.1min\n",
      "[CV 2/2] END learning_rate=0.05, max_depth=18, n_estimators=100;, score=0.596 total time=142.2min\n",
      "[CV 2/2] END learning_rate=0.2, max_depth=2, n_estimators=200;, score=0.588 total time=114.7min\n",
      "[CV 1/2] END learning_rate=0.2, max_depth=14, n_estimators=50;, score=0.597 total time=265.4min\n",
      "[CV 2/2] END learning_rate=0.2, max_depth=18, n_estimators=100;, score=0.599 total time=191.8min\n",
      "[CV 1/2] END learning_rate=0.1, max_depth=10, n_estimators=150;, score=0.595 total time=149.6min\n",
      "[CV 2/2] END learning_rate=0.1, max_depth=18, n_estimators=150;, score=0.600 total time=252.6min\n",
      "[CV 1/2] END learning_rate=0.05, max_depth=18, n_estimators=100;, score=0.596 total time=142.6min\n",
      "[CV 1/2] END learning_rate=0.2, max_depth=2, n_estimators=150;, score=0.586 total time=106.2min\n",
      "[CV 2/2] END learning_rate=0.2, max_depth=10, n_estimators=150;, score=0.596 total time=325.9min\n",
      "[CV 2/2] END learning_rate=0.2, max_depth=18, n_estimators=200;, score=0.598 total time=370.3min\n",
      "[CV 1/2] END learning_rate=0.05, max_depth=6, n_estimators=100;, score=0.584 total time=47.9min\n",
      "[CV 1/2] END learning_rate=0.05, max_depth=10, n_estimators=100;, score=0.589 total time=87.7min\n",
      "[CV 1/2] END learning_rate=0.05, max_depth=14, n_estimators=200;, score=0.597 total time=193.0min\n",
      "[CV 2/2] END learning_rate=0.2, max_depth=6, n_estimators=150;, score=0.592 total time=331.0min\n",
      "[CV 2/2] END learning_rate=0.2, max_depth=14, n_estimators=200;, score=0.600 total time=289.0min\n",
      "[CV 2/2] END learning_rate=0.1, max_depth=14, n_estimators=100;, score=0.597 total time=151.2min\n",
      "[CV 2/2] END learning_rate=0.05, max_depth=2, n_estimators=50;, score=0.564 total time= 8.1min\n",
      "[CV 2/2] END learning_rate=0.05, max_depth=2, n_estimators=150;, score=0.567 total time=23.2min\n",
      "[CV 2/2] END learning_rate=0.05, max_depth=6, n_estimators=100;, score=0.584 total time=47.9min\n",
      "[CV 2/2] END learning_rate=0.05, max_depth=10, n_estimators=100;, score=0.590 total time=87.8min\n",
      "[CV 2/2] END learning_rate=0.05, max_depth=14, n_estimators=200;, score=0.597 total time=192.9min\n",
      "[CV 2/2] END learning_rate=0.2, max_depth=6, n_estimators=100;, score=0.592 total time=264.6min\n",
      "[CV 1/2] END learning_rate=0.2, max_depth=14, n_estimators=100;, score=0.599 total time=207.1min\n",
      "[CV 1/2] END learning_rate=0.1, max_depth=2, n_estimators=50;, score=0.565 total time= 8.1min\n",
      "[CV 1/2] END learning_rate=0.1, max_depth=2, n_estimators=100;, score=0.569 total time=16.6min\n",
      "[CV 1/2] END learning_rate=0.1, max_depth=6, n_estimators=50;, score=0.584 total time=24.9min\n",
      "[CV 1/2] END learning_rate=0.1, max_depth=6, n_estimators=150;, score=0.592 total time=78.1min\n",
      "[CV 1/2] END learning_rate=0.1, max_depth=14, n_estimators=50;, score=0.594 total time=88.1min\n",
      "[CV 1/2] END learning_rate=0.1, max_depth=18, n_estimators=100;, score=0.598 total time=177.6min\n",
      "[CV 1/2] END learning_rate=0.05, max_depth=10, n_estimators=150;, score=0.593 total time=129.8min\n",
      "[CV 1/2] END learning_rate=0.05, max_depth=18, n_estimators=150;, score=0.598 total time=162.4min\n",
      "[CV 1/2] END learning_rate=0.2, max_depth=6, n_estimators=50;, score=0.590 total time=107.4min\n",
      "[CV 2/2] END learning_rate=0.2, max_depth=10, n_estimators=200;, score=0.597 total time=381.7min\n",
      "[CV 1/2] END learning_rate=0.1, max_depth=2, n_estimators=200;, score=0.582 total time=32.4min\n",
      "[CV 2/2] END learning_rate=0.1, max_depth=6, n_estimators=150;, score=0.591 total time=78.3min\n",
      "[CV 2/2] END learning_rate=0.1, max_depth=14, n_estimators=50;, score=0.594 total time=88.1min\n",
      "[CV 2/2] END learning_rate=0.1, max_depth=18, n_estimators=100;, score=0.599 total time=177.3min\n",
      "[CV 2/2] END learning_rate=0.05, max_depth=10, n_estimators=150;, score=0.592 total time=129.9min\n",
      "[CV 2/2] END learning_rate=0.05, max_depth=18, n_estimators=150;, score=0.598 total time=162.4min\n",
      "[CV 2/2] END learning_rate=0.2, max_depth=6, n_estimators=200;, score=0.593 total time=377.8min\n",
      "[CV 2/2] END learning_rate=0.2, max_depth=18, n_estimators=50;, score=0.598 total time=105.5min\n",
      "[CV 1/2] END learning_rate=0.1, max_depth=2, n_estimators=150;, score=0.576 total time=24.5min\n",
      "[CV 1/2] END learning_rate=0.1, max_depth=6, n_estimators=100;, score=0.590 total time=54.6min\n",
      "[CV 1/2] END learning_rate=0.1, max_depth=10, n_estimators=100;, score=0.594 total time=107.9min\n",
      "[CV 2/2] END learning_rate=0.1, max_depth=14, n_estimators=200;, score=0.599 total time=245.9min\n",
      "[CV 1/2] END learning_rate=0.05, max_depth=14, n_estimators=100;, score=0.594 total time=131.5min\n",
      "[CV 2/2] END learning_rate=0.05, max_depth=18, n_estimators=200;, score=0.599 total time=154.0min\n",
      "[CV 2/2] END learning_rate=0.2, max_depth=6, n_estimators=50;, score=0.589 total time=107.3min\n",
      "[CV 1/2] END learning_rate=0.2, max_depth=10, n_estimators=200;, score=0.597 total time=381.9min\n",
      "[CV 2/2] END learning_rate=0.1, max_depth=2, n_estimators=200;, score=0.581 total time=32.5min\n",
      "[CV 1/2] END learning_rate=0.1, max_depth=6, n_estimators=200;, score=0.592 total time=101.8min\n",
      "[CV 2/2] END learning_rate=0.1, max_depth=14, n_estimators=150;, score=0.598 total time=209.5min\n",
      "[CV 2/2] END learning_rate=0.05, max_depth=10, n_estimators=50;, score=0.586 total time=44.5min\n",
      "[CV 2/2] END learning_rate=0.05, max_depth=10, n_estimators=200;, score=0.594 total time=170.1min\n",
      "[CV 1/2] END learning_rate=0.05, max_depth=18, n_estimators=200;, score=0.599 total time=154.9min\n"
     ]
    },
    {
     "data": {
      "text/html": [
       "<style>#sk-container-id-2 {color: black;background-color: white;}#sk-container-id-2 pre{padding: 0;}#sk-container-id-2 div.sk-toggleable {background-color: white;}#sk-container-id-2 label.sk-toggleable__label {cursor: pointer;display: block;width: 100%;margin-bottom: 0;padding: 0.3em;box-sizing: border-box;text-align: center;}#sk-container-id-2 label.sk-toggleable__label-arrow:before {content: \"▸\";float: left;margin-right: 0.25em;color: #696969;}#sk-container-id-2 label.sk-toggleable__label-arrow:hover:before {color: black;}#sk-container-id-2 div.sk-estimator:hover label.sk-toggleable__label-arrow:before {color: black;}#sk-container-id-2 div.sk-toggleable__content {max-height: 0;max-width: 0;overflow: hidden;text-align: left;background-color: #f0f8ff;}#sk-container-id-2 div.sk-toggleable__content pre {margin: 0.2em;color: black;border-radius: 0.25em;background-color: #f0f8ff;}#sk-container-id-2 input.sk-toggleable__control:checked~div.sk-toggleable__content {max-height: 200px;max-width: 100%;overflow: auto;}#sk-container-id-2 input.sk-toggleable__control:checked~label.sk-toggleable__label-arrow:before {content: \"▾\";}#sk-container-id-2 div.sk-estimator input.sk-toggleable__control:checked~label.sk-toggleable__label {background-color: #d4ebff;}#sk-container-id-2 div.sk-label input.sk-toggleable__control:checked~label.sk-toggleable__label {background-color: #d4ebff;}#sk-container-id-2 input.sk-hidden--visually {border: 0;clip: rect(1px 1px 1px 1px);clip: rect(1px, 1px, 1px, 1px);height: 1px;margin: -1px;overflow: hidden;padding: 0;position: absolute;width: 1px;}#sk-container-id-2 div.sk-estimator {font-family: monospace;background-color: #f0f8ff;border: 1px dotted black;border-radius: 0.25em;box-sizing: border-box;margin-bottom: 0.5em;}#sk-container-id-2 div.sk-estimator:hover {background-color: #d4ebff;}#sk-container-id-2 div.sk-parallel-item::after {content: \"\";width: 100%;border-bottom: 1px solid gray;flex-grow: 1;}#sk-container-id-2 div.sk-label:hover label.sk-toggleable__label {background-color: #d4ebff;}#sk-container-id-2 div.sk-serial::before {content: \"\";position: absolute;border-left: 1px solid gray;box-sizing: border-box;top: 0;bottom: 0;left: 50%;z-index: 0;}#sk-container-id-2 div.sk-serial {display: flex;flex-direction: column;align-items: center;background-color: white;padding-right: 0.2em;padding-left: 0.2em;position: relative;}#sk-container-id-2 div.sk-item {position: relative;z-index: 1;}#sk-container-id-2 div.sk-parallel {display: flex;align-items: stretch;justify-content: center;background-color: white;position: relative;}#sk-container-id-2 div.sk-item::before, #sk-container-id-2 div.sk-parallel-item::before {content: \"\";position: absolute;border-left: 1px solid gray;box-sizing: border-box;top: 0;bottom: 0;left: 50%;z-index: -1;}#sk-container-id-2 div.sk-parallel-item {display: flex;flex-direction: column;z-index: 1;position: relative;background-color: white;}#sk-container-id-2 div.sk-parallel-item:first-child::after {align-self: flex-end;width: 50%;}#sk-container-id-2 div.sk-parallel-item:last-child::after {align-self: flex-start;width: 50%;}#sk-container-id-2 div.sk-parallel-item:only-child::after {width: 0;}#sk-container-id-2 div.sk-dashed-wrapped {border: 1px dashed gray;margin: 0 0.4em 0.5em 0.4em;box-sizing: border-box;padding-bottom: 0.4em;background-color: white;}#sk-container-id-2 div.sk-label label {font-family: monospace;font-weight: bold;display: inline-block;line-height: 1.2em;}#sk-container-id-2 div.sk-label-container {text-align: center;}#sk-container-id-2 div.sk-container {/* jupyter's `normalize.less` sets `[hidden] { display: none; }` but bootstrap.min.css set `[hidden] { display: none !important; }` so we also need the `!important` here to be able to override the default hidden behavior on the sphinx rendered scikit-learn.org. See: https://github.com/scikit-learn/scikit-learn/issues/21755 */display: inline-block !important;position: relative;}#sk-container-id-2 div.sk-text-repr-fallback {display: none;}</style><div id=\"sk-container-id-2\" class=\"sk-top-container\"><div class=\"sk-text-repr-fallback\"><pre>GridSearchCV(cv=2,\n",
       "             estimator=XGBClassifier(base_score=None, booster=None,\n",
       "                                     callbacks=None, colsample_bylevel=None,\n",
       "                                     colsample_bynode=None,\n",
       "                                     colsample_bytree=None,\n",
       "                                     early_stopping_rounds=None,\n",
       "                                     enable_categorical=False, eval_metric=None,\n",
       "                                     feature_types=None, gamma=None,\n",
       "                                     gpu_id=None, grow_policy=None,\n",
       "                                     importance_type=None,\n",
       "                                     interaction_constraints=None,\n",
       "                                     learning_rate=None,...\n",
       "                                     max_cat_to_onehot=None,\n",
       "                                     max_delta_step=None, max_depth=None,\n",
       "                                     max_leaves=None, min_child_weight=None,\n",
       "                                     missing=nan, monotone_constraints=None,\n",
       "                                     n_estimators=100, n_jobs=None,\n",
       "                                     num_parallel_tree=None,\n",
       "                                     objective=&#x27;multi:softprob&#x27;, predictor=None, ...),\n",
       "             n_jobs=-1,\n",
       "             param_grid={&#x27;learning_rate&#x27;: [0.2, 0.1, 0.05],\n",
       "                         &#x27;max_depth&#x27;: range(2, 20, 4),\n",
       "                         &#x27;n_estimators&#x27;: range(50, 250, 50)},\n",
       "             verbose=3)</pre><b>In a Jupyter environment, please rerun this cell to show the HTML representation or trust the notebook. <br />On GitHub, the HTML representation is unable to render, please try loading this page with nbviewer.org.</b></div><div class=\"sk-container\" hidden><div class=\"sk-item sk-dashed-wrapped\"><div class=\"sk-label-container\"><div class=\"sk-label sk-toggleable\"><input class=\"sk-toggleable__control sk-hidden--visually\" id=\"sk-estimator-id-2\" type=\"checkbox\" ><label for=\"sk-estimator-id-2\" class=\"sk-toggleable__label sk-toggleable__label-arrow\">GridSearchCV</label><div class=\"sk-toggleable__content\"><pre>GridSearchCV(cv=2,\n",
       "             estimator=XGBClassifier(base_score=None, booster=None,\n",
       "                                     callbacks=None, colsample_bylevel=None,\n",
       "                                     colsample_bynode=None,\n",
       "                                     colsample_bytree=None,\n",
       "                                     early_stopping_rounds=None,\n",
       "                                     enable_categorical=False, eval_metric=None,\n",
       "                                     feature_types=None, gamma=None,\n",
       "                                     gpu_id=None, grow_policy=None,\n",
       "                                     importance_type=None,\n",
       "                                     interaction_constraints=None,\n",
       "                                     learning_rate=None,...\n",
       "                                     max_cat_to_onehot=None,\n",
       "                                     max_delta_step=None, max_depth=None,\n",
       "                                     max_leaves=None, min_child_weight=None,\n",
       "                                     missing=nan, monotone_constraints=None,\n",
       "                                     n_estimators=100, n_jobs=None,\n",
       "                                     num_parallel_tree=None,\n",
       "                                     objective=&#x27;multi:softprob&#x27;, predictor=None, ...),\n",
       "             n_jobs=-1,\n",
       "             param_grid={&#x27;learning_rate&#x27;: [0.2, 0.1, 0.05],\n",
       "                         &#x27;max_depth&#x27;: range(2, 20, 4),\n",
       "                         &#x27;n_estimators&#x27;: range(50, 250, 50)},\n",
       "             verbose=3)</pre></div></div></div><div class=\"sk-parallel\"><div class=\"sk-parallel-item\"><div class=\"sk-item\"><div class=\"sk-label-container\"><div class=\"sk-label sk-toggleable\"><input class=\"sk-toggleable__control sk-hidden--visually\" id=\"sk-estimator-id-3\" type=\"checkbox\" ><label for=\"sk-estimator-id-3\" class=\"sk-toggleable__label sk-toggleable__label-arrow\">estimator: XGBClassifier</label><div class=\"sk-toggleable__content\"><pre>XGBClassifier(base_score=None, booster=None, callbacks=None,\n",
       "              colsample_bylevel=None, colsample_bynode=None,\n",
       "              colsample_bytree=None, early_stopping_rounds=None,\n",
       "              enable_categorical=False, eval_metric=None, feature_types=None,\n",
       "              gamma=None, gpu_id=None, grow_policy=None, importance_type=None,\n",
       "              interaction_constraints=None, learning_rate=None, max_bin=None,\n",
       "              max_cat_threshold=None, max_cat_to_onehot=None,\n",
       "              max_delta_step=None, max_depth=None, max_leaves=None,\n",
       "              min_child_weight=None, missing=nan, monotone_constraints=None,\n",
       "              n_estimators=100, n_jobs=None, num_parallel_tree=None,\n",
       "              objective=&#x27;multi:softprob&#x27;, predictor=None, ...)</pre></div></div></div><div class=\"sk-serial\"><div class=\"sk-item\"><div class=\"sk-estimator sk-toggleable\"><input class=\"sk-toggleable__control sk-hidden--visually\" id=\"sk-estimator-id-4\" type=\"checkbox\" ><label for=\"sk-estimator-id-4\" class=\"sk-toggleable__label sk-toggleable__label-arrow\">XGBClassifier</label><div class=\"sk-toggleable__content\"><pre>XGBClassifier(base_score=None, booster=None, callbacks=None,\n",
       "              colsample_bylevel=None, colsample_bynode=None,\n",
       "              colsample_bytree=None, early_stopping_rounds=None,\n",
       "              enable_categorical=False, eval_metric=None, feature_types=None,\n",
       "              gamma=None, gpu_id=None, grow_policy=None, importance_type=None,\n",
       "              interaction_constraints=None, learning_rate=None, max_bin=None,\n",
       "              max_cat_threshold=None, max_cat_to_onehot=None,\n",
       "              max_delta_step=None, max_depth=None, max_leaves=None,\n",
       "              min_child_weight=None, missing=nan, monotone_constraints=None,\n",
       "              n_estimators=100, n_jobs=None, num_parallel_tree=None,\n",
       "              objective=&#x27;multi:softprob&#x27;, predictor=None, ...)</pre></div></div></div></div></div></div></div></div></div></div>"
      ],
      "text/plain": [
       "GridSearchCV(cv=2,\n",
       "             estimator=XGBClassifier(base_score=None, booster=None,\n",
       "                                     callbacks=None, colsample_bylevel=None,\n",
       "                                     colsample_bynode=None,\n",
       "                                     colsample_bytree=None,\n",
       "                                     early_stopping_rounds=None,\n",
       "                                     enable_categorical=False, eval_metric=None,\n",
       "                                     feature_types=None, gamma=None,\n",
       "                                     gpu_id=None, grow_policy=None,\n",
       "                                     importance_type=None,\n",
       "                                     interaction_constraints=None,\n",
       "                                     learning_rate=None,...\n",
       "                                     max_cat_to_onehot=None,\n",
       "                                     max_delta_step=None, max_depth=None,\n",
       "                                     max_leaves=None, min_child_weight=None,\n",
       "                                     missing=nan, monotone_constraints=None,\n",
       "                                     n_estimators=100, n_jobs=None,\n",
       "                                     num_parallel_tree=None,\n",
       "                                     objective='multi:softprob', predictor=None, ...),\n",
       "             n_jobs=-1,\n",
       "             param_grid={'learning_rate': [0.2, 0.1, 0.05],\n",
       "                         'max_depth': range(2, 20, 4),\n",
       "                         'n_estimators': range(50, 250, 50)},\n",
       "             verbose=3)"
      ]
     },
     "execution_count": 26,
     "metadata": {},
     "output_type": "execute_result"
    }
   ],
   "source": [
    "grid_search.fit(x_train, y_train)"
   ]
  },
  {
   "cell_type": "code",
   "execution_count": 27,
   "id": "a51cd962-a4d1-4fd4-bee3-f2b6db6f7a2b",
   "metadata": {},
   "outputs": [
    {
     "data": {
      "text/plain": [
       "{'learning_rate': 0.2, 'max_depth': 14, 'n_estimators': 200}"
      ]
     },
     "execution_count": 27,
     "metadata": {},
     "output_type": "execute_result"
    }
   ],
   "source": [
    "grid_search.best_params_"
   ]
  },
  {
   "cell_type": "code",
   "execution_count": 28,
   "id": "779026a8-c15d-4c99-95e7-4e16e75e5c3b",
   "metadata": {},
   "outputs": [
    {
     "data": {
      "text/plain": [
       "0.600199278293851"
      ]
     },
     "execution_count": 28,
     "metadata": {},
     "output_type": "execute_result"
    }
   ],
   "source": [
    "grid_search.best_score_"
   ]
  },
  {
   "cell_type": "code",
   "execution_count": 29,
   "id": "43759792-bbca-49ef-9d61-1f10898c6238",
   "metadata": {},
   "outputs": [],
   "source": [
    "y_pred = grid_search.predict(x_test)"
   ]
  },
  {
   "cell_type": "code",
   "execution_count": 30,
   "id": "c303ffad-0518-41c4-b699-f977f06e5c1e",
   "metadata": {},
   "outputs": [
    {
     "data": {
      "text/plain": [
       "0.6056715650553751"
      ]
     },
     "execution_count": 30,
     "metadata": {},
     "output_type": "execute_result"
    }
   ],
   "source": [
    "accuracy_score(y_test, y_pred)"
   ]
  },
  {
   "cell_type": "code",
   "execution_count": 34,
   "id": "417896b1-66d9-472b-861c-13adf4155464",
   "metadata": {},
   "outputs": [
    {
     "data": {
      "text/html": [
       "<style>#sk-container-id-3 {color: black;background-color: white;}#sk-container-id-3 pre{padding: 0;}#sk-container-id-3 div.sk-toggleable {background-color: white;}#sk-container-id-3 label.sk-toggleable__label {cursor: pointer;display: block;width: 100%;margin-bottom: 0;padding: 0.3em;box-sizing: border-box;text-align: center;}#sk-container-id-3 label.sk-toggleable__label-arrow:before {content: \"▸\";float: left;margin-right: 0.25em;color: #696969;}#sk-container-id-3 label.sk-toggleable__label-arrow:hover:before {color: black;}#sk-container-id-3 div.sk-estimator:hover label.sk-toggleable__label-arrow:before {color: black;}#sk-container-id-3 div.sk-toggleable__content {max-height: 0;max-width: 0;overflow: hidden;text-align: left;background-color: #f0f8ff;}#sk-container-id-3 div.sk-toggleable__content pre {margin: 0.2em;color: black;border-radius: 0.25em;background-color: #f0f8ff;}#sk-container-id-3 input.sk-toggleable__control:checked~div.sk-toggleable__content {max-height: 200px;max-width: 100%;overflow: auto;}#sk-container-id-3 input.sk-toggleable__control:checked~label.sk-toggleable__label-arrow:before {content: \"▾\";}#sk-container-id-3 div.sk-estimator input.sk-toggleable__control:checked~label.sk-toggleable__label {background-color: #d4ebff;}#sk-container-id-3 div.sk-label input.sk-toggleable__control:checked~label.sk-toggleable__label {background-color: #d4ebff;}#sk-container-id-3 input.sk-hidden--visually {border: 0;clip: rect(1px 1px 1px 1px);clip: rect(1px, 1px, 1px, 1px);height: 1px;margin: -1px;overflow: hidden;padding: 0;position: absolute;width: 1px;}#sk-container-id-3 div.sk-estimator {font-family: monospace;background-color: #f0f8ff;border: 1px dotted black;border-radius: 0.25em;box-sizing: border-box;margin-bottom: 0.5em;}#sk-container-id-3 div.sk-estimator:hover {background-color: #d4ebff;}#sk-container-id-3 div.sk-parallel-item::after {content: \"\";width: 100%;border-bottom: 1px solid gray;flex-grow: 1;}#sk-container-id-3 div.sk-label:hover label.sk-toggleable__label {background-color: #d4ebff;}#sk-container-id-3 div.sk-serial::before {content: \"\";position: absolute;border-left: 1px solid gray;box-sizing: border-box;top: 0;bottom: 0;left: 50%;z-index: 0;}#sk-container-id-3 div.sk-serial {display: flex;flex-direction: column;align-items: center;background-color: white;padding-right: 0.2em;padding-left: 0.2em;position: relative;}#sk-container-id-3 div.sk-item {position: relative;z-index: 1;}#sk-container-id-3 div.sk-parallel {display: flex;align-items: stretch;justify-content: center;background-color: white;position: relative;}#sk-container-id-3 div.sk-item::before, #sk-container-id-3 div.sk-parallel-item::before {content: \"\";position: absolute;border-left: 1px solid gray;box-sizing: border-box;top: 0;bottom: 0;left: 50%;z-index: -1;}#sk-container-id-3 div.sk-parallel-item {display: flex;flex-direction: column;z-index: 1;position: relative;background-color: white;}#sk-container-id-3 div.sk-parallel-item:first-child::after {align-self: flex-end;width: 50%;}#sk-container-id-3 div.sk-parallel-item:last-child::after {align-self: flex-start;width: 50%;}#sk-container-id-3 div.sk-parallel-item:only-child::after {width: 0;}#sk-container-id-3 div.sk-dashed-wrapped {border: 1px dashed gray;margin: 0 0.4em 0.5em 0.4em;box-sizing: border-box;padding-bottom: 0.4em;background-color: white;}#sk-container-id-3 div.sk-label label {font-family: monospace;font-weight: bold;display: inline-block;line-height: 1.2em;}#sk-container-id-3 div.sk-label-container {text-align: center;}#sk-container-id-3 div.sk-container {/* jupyter's `normalize.less` sets `[hidden] { display: none; }` but bootstrap.min.css set `[hidden] { display: none !important; }` so we also need the `!important` here to be able to override the default hidden behavior on the sphinx rendered scikit-learn.org. See: https://github.com/scikit-learn/scikit-learn/issues/21755 */display: inline-block !important;position: relative;}#sk-container-id-3 div.sk-text-repr-fallback {display: none;}</style><div id=\"sk-container-id-3\" class=\"sk-top-container\"><div class=\"sk-text-repr-fallback\"><pre>XGBClassifier(base_score=0.5, booster=&#x27;gbtree&#x27;, callbacks=None,\n",
       "              colsample_bylevel=1, colsample_bynode=1, colsample_bytree=1,\n",
       "              early_stopping_rounds=None, enable_categorical=False,\n",
       "              eval_metric=None, feature_types=None, gamma=0, gpu_id=-1,\n",
       "              grow_policy=&#x27;depthwise&#x27;, importance_type=None,\n",
       "              interaction_constraints=&#x27;&#x27;, learning_rate=0.2, max_bin=256,\n",
       "              max_cat_threshold=64, max_cat_to_onehot=4, max_delta_step=0,\n",
       "              max_depth=14, max_leaves=0, min_child_weight=1, missing=nan,\n",
       "              monotone_constraints=&#x27;()&#x27;, n_estimators=200, n_jobs=0,\n",
       "              num_parallel_tree=1, objective=&#x27;multi:softprob&#x27;, predictor=&#x27;auto&#x27;, ...)</pre><b>In a Jupyter environment, please rerun this cell to show the HTML representation or trust the notebook. <br />On GitHub, the HTML representation is unable to render, please try loading this page with nbviewer.org.</b></div><div class=\"sk-container\" hidden><div class=\"sk-item\"><div class=\"sk-estimator sk-toggleable\"><input class=\"sk-toggleable__control sk-hidden--visually\" id=\"sk-estimator-id-5\" type=\"checkbox\" checked><label for=\"sk-estimator-id-5\" class=\"sk-toggleable__label sk-toggleable__label-arrow\">XGBClassifier</label><div class=\"sk-toggleable__content\"><pre>XGBClassifier(base_score=0.5, booster=&#x27;gbtree&#x27;, callbacks=None,\n",
       "              colsample_bylevel=1, colsample_bynode=1, colsample_bytree=1,\n",
       "              early_stopping_rounds=None, enable_categorical=False,\n",
       "              eval_metric=None, feature_types=None, gamma=0, gpu_id=-1,\n",
       "              grow_policy=&#x27;depthwise&#x27;, importance_type=None,\n",
       "              interaction_constraints=&#x27;&#x27;, learning_rate=0.2, max_bin=256,\n",
       "              max_cat_threshold=64, max_cat_to_onehot=4, max_delta_step=0,\n",
       "              max_depth=14, max_leaves=0, min_child_weight=1, missing=nan,\n",
       "              monotone_constraints=&#x27;()&#x27;, n_estimators=200, n_jobs=0,\n",
       "              num_parallel_tree=1, objective=&#x27;multi:softprob&#x27;, predictor=&#x27;auto&#x27;, ...)</pre></div></div></div></div></div>"
      ],
      "text/plain": [
       "XGBClassifier(base_score=0.5, booster='gbtree', callbacks=None,\n",
       "              colsample_bylevel=1, colsample_bynode=1, colsample_bytree=1,\n",
       "              early_stopping_rounds=None, enable_categorical=False,\n",
       "              eval_metric=None, feature_types=None, gamma=0, gpu_id=-1,\n",
       "              grow_policy='depthwise', importance_type=None,\n",
       "              interaction_constraints='', learning_rate=0.2, max_bin=256,\n",
       "              max_cat_threshold=64, max_cat_to_onehot=4, max_delta_step=0,\n",
       "              max_depth=14, max_leaves=0, min_child_weight=1, missing=nan,\n",
       "              monotone_constraints='()', n_estimators=200, n_jobs=0,\n",
       "              num_parallel_tree=1, objective='multi:softprob', predictor='auto', ...)"
      ]
     },
     "execution_count": 34,
     "metadata": {},
     "output_type": "execute_result"
    }
   ],
   "source": [
    "grid_search.best_estimator_"
   ]
  },
  {
   "cell_type": "code",
   "execution_count": 38,
   "id": "aa9fb783-ad70-4ced-b4b7-61a0d0c2315f",
   "metadata": {},
   "outputs": [
    {
     "data": {
      "text/plain": [
       "['classifier.pkl']"
      ]
     },
     "execution_count": 38,
     "metadata": {},
     "output_type": "execute_result"
    }
   ],
   "source": [
    "#export model\n",
    "joblib.dump(grid_search.best_estimator_, 'classifier.pkl', compress = 1)"
   ]
  },
  {
   "cell_type": "code",
   "execution_count": null,
   "id": "aee669ab-cd18-4224-a262-54ef9d8cf243",
   "metadata": {},
   "outputs": [],
   "source": []
  }
 ],
 "metadata": {
  "kernelspec": {
   "display_name": "Python 3 (ipykernel)",
   "language": "python",
   "name": "python3"
  },
  "language_info": {
   "codemirror_mode": {
    "name": "ipython",
    "version": 3
   },
   "file_extension": ".py",
   "mimetype": "text/x-python",
   "name": "python",
   "nbconvert_exporter": "python",
   "pygments_lexer": "ipython3",
   "version": "3.10.8"
  }
 },
 "nbformat": 4,
 "nbformat_minor": 5
}
