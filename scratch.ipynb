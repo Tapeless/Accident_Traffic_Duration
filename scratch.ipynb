{
 "cells": [
  {
   "cell_type": "code",
   "execution_count": 268,
   "metadata": {},
   "outputs": [],
   "source": [
    "import numpy as np\n",
    "import pandas as pd\n",
    "import matplotlib.pyplot as plt\n",
    "import seaborn as sns\n",
    "from datetime import datetime\n",
    "plt.rcParams['figure.figsize'] = [17, 10]"
   ]
  },
  {
   "cell_type": "code",
   "execution_count": 269,
   "metadata": {},
   "outputs": [],
   "source": [
    "df = pd.read_csv(\"US_Accidents_Dec21_updated.csv\")"
   ]
  },
  {
   "cell_type": "code",
   "execution_count": 270,
   "metadata": {},
   "outputs": [
    {
     "data": {
      "text/html": [
       "<div>\n",
       "<style scoped>\n",
       "    .dataframe tbody tr th:only-of-type {\n",
       "        vertical-align: middle;\n",
       "    }\n",
       "\n",
       "    .dataframe tbody tr th {\n",
       "        vertical-align: top;\n",
       "    }\n",
       "\n",
       "    .dataframe thead th {\n",
       "        text-align: right;\n",
       "    }\n",
       "</style>\n",
       "<table border=\"1\" class=\"dataframe\">\n",
       "  <thead>\n",
       "    <tr style=\"text-align: right;\">\n",
       "      <th></th>\n",
       "      <th>ID</th>\n",
       "      <th>Severity</th>\n",
       "      <th>Start_Time</th>\n",
       "      <th>End_Time</th>\n",
       "      <th>Start_Lat</th>\n",
       "      <th>Start_Lng</th>\n",
       "      <th>End_Lat</th>\n",
       "      <th>End_Lng</th>\n",
       "      <th>Distance(mi)</th>\n",
       "      <th>Description</th>\n",
       "      <th>...</th>\n",
       "      <th>Roundabout</th>\n",
       "      <th>Station</th>\n",
       "      <th>Stop</th>\n",
       "      <th>Traffic_Calming</th>\n",
       "      <th>Traffic_Signal</th>\n",
       "      <th>Turning_Loop</th>\n",
       "      <th>Sunrise_Sunset</th>\n",
       "      <th>Civil_Twilight</th>\n",
       "      <th>Nautical_Twilight</th>\n",
       "      <th>Astronomical_Twilight</th>\n",
       "    </tr>\n",
       "  </thead>\n",
       "  <tbody>\n",
       "    <tr>\n",
       "      <th>0</th>\n",
       "      <td>A-1</td>\n",
       "      <td>3</td>\n",
       "      <td>2016-02-08 00:37:08</td>\n",
       "      <td>2016-02-08 06:37:08</td>\n",
       "      <td>40.108910</td>\n",
       "      <td>-83.092860</td>\n",
       "      <td>40.112060</td>\n",
       "      <td>-83.031870</td>\n",
       "      <td>3.230</td>\n",
       "      <td>Between Sawmill Rd/Exit 20 and OH-315/Olentang...</td>\n",
       "      <td>...</td>\n",
       "      <td>False</td>\n",
       "      <td>False</td>\n",
       "      <td>False</td>\n",
       "      <td>False</td>\n",
       "      <td>False</td>\n",
       "      <td>False</td>\n",
       "      <td>Night</td>\n",
       "      <td>Night</td>\n",
       "      <td>Night</td>\n",
       "      <td>Night</td>\n",
       "    </tr>\n",
       "    <tr>\n",
       "      <th>1</th>\n",
       "      <td>A-2</td>\n",
       "      <td>2</td>\n",
       "      <td>2016-02-08 05:56:20</td>\n",
       "      <td>2016-02-08 11:56:20</td>\n",
       "      <td>39.865420</td>\n",
       "      <td>-84.062800</td>\n",
       "      <td>39.865010</td>\n",
       "      <td>-84.048730</td>\n",
       "      <td>0.747</td>\n",
       "      <td>At OH-4/OH-235/Exit 41 - Accident.</td>\n",
       "      <td>...</td>\n",
       "      <td>False</td>\n",
       "      <td>False</td>\n",
       "      <td>False</td>\n",
       "      <td>False</td>\n",
       "      <td>False</td>\n",
       "      <td>False</td>\n",
       "      <td>Night</td>\n",
       "      <td>Night</td>\n",
       "      <td>Night</td>\n",
       "      <td>Night</td>\n",
       "    </tr>\n",
       "    <tr>\n",
       "      <th>2</th>\n",
       "      <td>A-3</td>\n",
       "      <td>2</td>\n",
       "      <td>2016-02-08 06:15:39</td>\n",
       "      <td>2016-02-08 12:15:39</td>\n",
       "      <td>39.102660</td>\n",
       "      <td>-84.524680</td>\n",
       "      <td>39.102090</td>\n",
       "      <td>-84.523960</td>\n",
       "      <td>0.055</td>\n",
       "      <td>At I-71/US-50/Exit 1 - Accident.</td>\n",
       "      <td>...</td>\n",
       "      <td>False</td>\n",
       "      <td>False</td>\n",
       "      <td>False</td>\n",
       "      <td>False</td>\n",
       "      <td>False</td>\n",
       "      <td>False</td>\n",
       "      <td>Night</td>\n",
       "      <td>Night</td>\n",
       "      <td>Night</td>\n",
       "      <td>Day</td>\n",
       "    </tr>\n",
       "    <tr>\n",
       "      <th>3</th>\n",
       "      <td>A-4</td>\n",
       "      <td>2</td>\n",
       "      <td>2016-02-08 06:51:45</td>\n",
       "      <td>2016-02-08 12:51:45</td>\n",
       "      <td>41.062130</td>\n",
       "      <td>-81.537840</td>\n",
       "      <td>41.062170</td>\n",
       "      <td>-81.535470</td>\n",
       "      <td>0.123</td>\n",
       "      <td>At Dart Ave/Exit 21 - Accident.</td>\n",
       "      <td>...</td>\n",
       "      <td>False</td>\n",
       "      <td>False</td>\n",
       "      <td>False</td>\n",
       "      <td>False</td>\n",
       "      <td>False</td>\n",
       "      <td>False</td>\n",
       "      <td>Night</td>\n",
       "      <td>Night</td>\n",
       "      <td>Day</td>\n",
       "      <td>Day</td>\n",
       "    </tr>\n",
       "    <tr>\n",
       "      <th>4</th>\n",
       "      <td>A-5</td>\n",
       "      <td>3</td>\n",
       "      <td>2016-02-08 07:53:43</td>\n",
       "      <td>2016-02-08 13:53:43</td>\n",
       "      <td>39.172393</td>\n",
       "      <td>-84.492792</td>\n",
       "      <td>39.170476</td>\n",
       "      <td>-84.501798</td>\n",
       "      <td>0.500</td>\n",
       "      <td>At Mitchell Ave/Exit 6 - Accident.</td>\n",
       "      <td>...</td>\n",
       "      <td>False</td>\n",
       "      <td>False</td>\n",
       "      <td>False</td>\n",
       "      <td>False</td>\n",
       "      <td>False</td>\n",
       "      <td>False</td>\n",
       "      <td>Day</td>\n",
       "      <td>Day</td>\n",
       "      <td>Day</td>\n",
       "      <td>Day</td>\n",
       "    </tr>\n",
       "  </tbody>\n",
       "</table>\n",
       "<p>5 rows × 47 columns</p>\n",
       "</div>"
      ],
      "text/plain": [
       "    ID  Severity           Start_Time             End_Time  Start_Lat  \\\n",
       "0  A-1         3  2016-02-08 00:37:08  2016-02-08 06:37:08  40.108910   \n",
       "1  A-2         2  2016-02-08 05:56:20  2016-02-08 11:56:20  39.865420   \n",
       "2  A-3         2  2016-02-08 06:15:39  2016-02-08 12:15:39  39.102660   \n",
       "3  A-4         2  2016-02-08 06:51:45  2016-02-08 12:51:45  41.062130   \n",
       "4  A-5         3  2016-02-08 07:53:43  2016-02-08 13:53:43  39.172393   \n",
       "\n",
       "   Start_Lng    End_Lat    End_Lng  Distance(mi)  \\\n",
       "0 -83.092860  40.112060 -83.031870         3.230   \n",
       "1 -84.062800  39.865010 -84.048730         0.747   \n",
       "2 -84.524680  39.102090 -84.523960         0.055   \n",
       "3 -81.537840  41.062170 -81.535470         0.123   \n",
       "4 -84.492792  39.170476 -84.501798         0.500   \n",
       "\n",
       "                                         Description  ...  Roundabout Station  \\\n",
       "0  Between Sawmill Rd/Exit 20 and OH-315/Olentang...  ...       False   False   \n",
       "1                 At OH-4/OH-235/Exit 41 - Accident.  ...       False   False   \n",
       "2                   At I-71/US-50/Exit 1 - Accident.  ...       False   False   \n",
       "3                    At Dart Ave/Exit 21 - Accident.  ...       False   False   \n",
       "4                 At Mitchell Ave/Exit 6 - Accident.  ...       False   False   \n",
       "\n",
       "    Stop Traffic_Calming Traffic_Signal Turning_Loop Sunrise_Sunset  \\\n",
       "0  False           False          False        False          Night   \n",
       "1  False           False          False        False          Night   \n",
       "2  False           False          False        False          Night   \n",
       "3  False           False          False        False          Night   \n",
       "4  False           False          False        False            Day   \n",
       "\n",
       "  Civil_Twilight Nautical_Twilight Astronomical_Twilight  \n",
       "0          Night             Night                 Night  \n",
       "1          Night             Night                 Night  \n",
       "2          Night             Night                   Day  \n",
       "3          Night               Day                   Day  \n",
       "4            Day               Day                   Day  \n",
       "\n",
       "[5 rows x 47 columns]"
      ]
     },
     "execution_count": 270,
     "metadata": {},
     "output_type": "execute_result"
    }
   ],
   "source": [
    "df.head()"
   ]
  },
  {
   "cell_type": "code",
   "execution_count": 271,
   "metadata": {},
   "outputs": [
    {
     "data": {
      "text/html": [
       "<div>\n",
       "<style scoped>\n",
       "    .dataframe tbody tr th:only-of-type {\n",
       "        vertical-align: middle;\n",
       "    }\n",
       "\n",
       "    .dataframe tbody tr th {\n",
       "        vertical-align: top;\n",
       "    }\n",
       "\n",
       "    .dataframe thead th {\n",
       "        text-align: right;\n",
       "    }\n",
       "</style>\n",
       "<table border=\"1\" class=\"dataframe\">\n",
       "  <thead>\n",
       "    <tr style=\"text-align: right;\">\n",
       "      <th></th>\n",
       "      <th>Severity</th>\n",
       "      <th>Start_Lat</th>\n",
       "      <th>Start_Lng</th>\n",
       "      <th>End_Lat</th>\n",
       "      <th>End_Lng</th>\n",
       "      <th>Distance(mi)</th>\n",
       "      <th>Number</th>\n",
       "      <th>Temperature(F)</th>\n",
       "      <th>Wind_Chill(F)</th>\n",
       "      <th>Humidity(%)</th>\n",
       "      <th>Pressure(in)</th>\n",
       "      <th>Visibility(mi)</th>\n",
       "      <th>Wind_Speed(mph)</th>\n",
       "      <th>Precipitation(in)</th>\n",
       "    </tr>\n",
       "  </thead>\n",
       "  <tbody>\n",
       "    <tr>\n",
       "      <th>count</th>\n",
       "      <td>2.845342e+06</td>\n",
       "      <td>2.845342e+06</td>\n",
       "      <td>2.845342e+06</td>\n",
       "      <td>2.845342e+06</td>\n",
       "      <td>2.845342e+06</td>\n",
       "      <td>2.845342e+06</td>\n",
       "      <td>1.101431e+06</td>\n",
       "      <td>2.776068e+06</td>\n",
       "      <td>2.375699e+06</td>\n",
       "      <td>2.772250e+06</td>\n",
       "      <td>2.786142e+06</td>\n",
       "      <td>2.774796e+06</td>\n",
       "      <td>2.687398e+06</td>\n",
       "      <td>2.295884e+06</td>\n",
       "    </tr>\n",
       "    <tr>\n",
       "      <th>mean</th>\n",
       "      <td>2.137572e+00</td>\n",
       "      <td>3.624520e+01</td>\n",
       "      <td>-9.711463e+01</td>\n",
       "      <td>3.624532e+01</td>\n",
       "      <td>-9.711439e+01</td>\n",
       "      <td>7.026779e-01</td>\n",
       "      <td>8.089408e+03</td>\n",
       "      <td>6.179356e+01</td>\n",
       "      <td>5.965823e+01</td>\n",
       "      <td>6.436545e+01</td>\n",
       "      <td>2.947234e+01</td>\n",
       "      <td>9.099391e+00</td>\n",
       "      <td>7.395044e+00</td>\n",
       "      <td>7.016940e-03</td>\n",
       "    </tr>\n",
       "    <tr>\n",
       "      <th>std</th>\n",
       "      <td>4.787216e-01</td>\n",
       "      <td>5.363797e+00</td>\n",
       "      <td>1.831782e+01</td>\n",
       "      <td>5.363873e+00</td>\n",
       "      <td>1.831763e+01</td>\n",
       "      <td>1.560361e+00</td>\n",
       "      <td>1.836009e+04</td>\n",
       "      <td>1.862263e+01</td>\n",
       "      <td>2.116097e+01</td>\n",
       "      <td>2.287457e+01</td>\n",
       "      <td>1.045286e+00</td>\n",
       "      <td>2.717546e+00</td>\n",
       "      <td>5.527454e+00</td>\n",
       "      <td>9.348831e-02</td>\n",
       "    </tr>\n",
       "    <tr>\n",
       "      <th>min</th>\n",
       "      <td>1.000000e+00</td>\n",
       "      <td>2.456603e+01</td>\n",
       "      <td>-1.245481e+02</td>\n",
       "      <td>2.456601e+01</td>\n",
       "      <td>-1.245457e+02</td>\n",
       "      <td>0.000000e+00</td>\n",
       "      <td>0.000000e+00</td>\n",
       "      <td>-8.900000e+01</td>\n",
       "      <td>-8.900000e+01</td>\n",
       "      <td>1.000000e+00</td>\n",
       "      <td>0.000000e+00</td>\n",
       "      <td>0.000000e+00</td>\n",
       "      <td>0.000000e+00</td>\n",
       "      <td>0.000000e+00</td>\n",
       "    </tr>\n",
       "    <tr>\n",
       "      <th>25%</th>\n",
       "      <td>2.000000e+00</td>\n",
       "      <td>3.344517e+01</td>\n",
       "      <td>-1.180331e+02</td>\n",
       "      <td>3.344628e+01</td>\n",
       "      <td>-1.180333e+02</td>\n",
       "      <td>5.200000e-02</td>\n",
       "      <td>1.270000e+03</td>\n",
       "      <td>5.000000e+01</td>\n",
       "      <td>4.600000e+01</td>\n",
       "      <td>4.800000e+01</td>\n",
       "      <td>2.931000e+01</td>\n",
       "      <td>1.000000e+01</td>\n",
       "      <td>3.500000e+00</td>\n",
       "      <td>0.000000e+00</td>\n",
       "    </tr>\n",
       "    <tr>\n",
       "      <th>50%</th>\n",
       "      <td>2.000000e+00</td>\n",
       "      <td>3.609861e+01</td>\n",
       "      <td>-9.241808e+01</td>\n",
       "      <td>3.609799e+01</td>\n",
       "      <td>-9.241772e+01</td>\n",
       "      <td>2.440000e-01</td>\n",
       "      <td>4.007000e+03</td>\n",
       "      <td>6.400000e+01</td>\n",
       "      <td>6.300000e+01</td>\n",
       "      <td>6.700000e+01</td>\n",
       "      <td>2.982000e+01</td>\n",
       "      <td>1.000000e+01</td>\n",
       "      <td>7.000000e+00</td>\n",
       "      <td>0.000000e+00</td>\n",
       "    </tr>\n",
       "    <tr>\n",
       "      <th>75%</th>\n",
       "      <td>2.000000e+00</td>\n",
       "      <td>4.016024e+01</td>\n",
       "      <td>-8.037243e+01</td>\n",
       "      <td>4.016105e+01</td>\n",
       "      <td>-8.037338e+01</td>\n",
       "      <td>7.640000e-01</td>\n",
       "      <td>9.567000e+03</td>\n",
       "      <td>7.600000e+01</td>\n",
       "      <td>7.600000e+01</td>\n",
       "      <td>8.300000e+01</td>\n",
       "      <td>3.001000e+01</td>\n",
       "      <td>1.000000e+01</td>\n",
       "      <td>1.000000e+01</td>\n",
       "      <td>0.000000e+00</td>\n",
       "    </tr>\n",
       "    <tr>\n",
       "      <th>max</th>\n",
       "      <td>4.000000e+00</td>\n",
       "      <td>4.900058e+01</td>\n",
       "      <td>-6.711317e+01</td>\n",
       "      <td>4.907500e+01</td>\n",
       "      <td>-6.710924e+01</td>\n",
       "      <td>1.551860e+02</td>\n",
       "      <td>9.999997e+06</td>\n",
       "      <td>1.960000e+02</td>\n",
       "      <td>1.960000e+02</td>\n",
       "      <td>1.000000e+02</td>\n",
       "      <td>5.890000e+01</td>\n",
       "      <td>1.400000e+02</td>\n",
       "      <td>1.087000e+03</td>\n",
       "      <td>2.400000e+01</td>\n",
       "    </tr>\n",
       "  </tbody>\n",
       "</table>\n",
       "</div>"
      ],
      "text/plain": [
       "           Severity     Start_Lat     Start_Lng       End_Lat       End_Lng  \\\n",
       "count  2.845342e+06  2.845342e+06  2.845342e+06  2.845342e+06  2.845342e+06   \n",
       "mean   2.137572e+00  3.624520e+01 -9.711463e+01  3.624532e+01 -9.711439e+01   \n",
       "std    4.787216e-01  5.363797e+00  1.831782e+01  5.363873e+00  1.831763e+01   \n",
       "min    1.000000e+00  2.456603e+01 -1.245481e+02  2.456601e+01 -1.245457e+02   \n",
       "25%    2.000000e+00  3.344517e+01 -1.180331e+02  3.344628e+01 -1.180333e+02   \n",
       "50%    2.000000e+00  3.609861e+01 -9.241808e+01  3.609799e+01 -9.241772e+01   \n",
       "75%    2.000000e+00  4.016024e+01 -8.037243e+01  4.016105e+01 -8.037338e+01   \n",
       "max    4.000000e+00  4.900058e+01 -6.711317e+01  4.907500e+01 -6.710924e+01   \n",
       "\n",
       "       Distance(mi)        Number  Temperature(F)  Wind_Chill(F)  \\\n",
       "count  2.845342e+06  1.101431e+06    2.776068e+06   2.375699e+06   \n",
       "mean   7.026779e-01  8.089408e+03    6.179356e+01   5.965823e+01   \n",
       "std    1.560361e+00  1.836009e+04    1.862263e+01   2.116097e+01   \n",
       "min    0.000000e+00  0.000000e+00   -8.900000e+01  -8.900000e+01   \n",
       "25%    5.200000e-02  1.270000e+03    5.000000e+01   4.600000e+01   \n",
       "50%    2.440000e-01  4.007000e+03    6.400000e+01   6.300000e+01   \n",
       "75%    7.640000e-01  9.567000e+03    7.600000e+01   7.600000e+01   \n",
       "max    1.551860e+02  9.999997e+06    1.960000e+02   1.960000e+02   \n",
       "\n",
       "        Humidity(%)  Pressure(in)  Visibility(mi)  Wind_Speed(mph)  \\\n",
       "count  2.772250e+06  2.786142e+06    2.774796e+06     2.687398e+06   \n",
       "mean   6.436545e+01  2.947234e+01    9.099391e+00     7.395044e+00   \n",
       "std    2.287457e+01  1.045286e+00    2.717546e+00     5.527454e+00   \n",
       "min    1.000000e+00  0.000000e+00    0.000000e+00     0.000000e+00   \n",
       "25%    4.800000e+01  2.931000e+01    1.000000e+01     3.500000e+00   \n",
       "50%    6.700000e+01  2.982000e+01    1.000000e+01     7.000000e+00   \n",
       "75%    8.300000e+01  3.001000e+01    1.000000e+01     1.000000e+01   \n",
       "max    1.000000e+02  5.890000e+01    1.400000e+02     1.087000e+03   \n",
       "\n",
       "       Precipitation(in)  \n",
       "count       2.295884e+06  \n",
       "mean        7.016940e-03  \n",
       "std         9.348831e-02  \n",
       "min         0.000000e+00  \n",
       "25%         0.000000e+00  \n",
       "50%         0.000000e+00  \n",
       "75%         0.000000e+00  \n",
       "max         2.400000e+01  "
      ]
     },
     "execution_count": 271,
     "metadata": {},
     "output_type": "execute_result"
    }
   ],
   "source": [
    "df.describe()"
   ]
  },
  {
   "cell_type": "code",
   "execution_count": 272,
   "metadata": {},
   "outputs": [
    {
     "data": {
      "text/plain": [
       "<AxesSubplot: >"
      ]
     },
     "execution_count": 272,
     "metadata": {},
     "output_type": "execute_result"
    },
    {
     "data": {
      "image/png": "[encoded data removed]",
      "text/plain": [
       "<Figure size 1700x1000 with 2 Axes>"
      ]
     },
     "metadata": {},
     "output_type": "display_data"
    }
   ],
   "source": [
    "sns.heatmap(df.corr(numeric_only=True))"
   ]
  },
  {
   "cell_type": "markdown",
   "metadata": {},
   "source": [
    "### I think a fun experiment with this dataset would be predicting the end time of the accident.\n",
    "#### The utility this would provide would be allowing for accident information on route planning in the near future.\n",
    "#### When planning trips to different cities/states, it can be helpful to preview an hour or so before leaving with a specified departure time and see a forecast of accident information."
   ]
  },
  {
   "cell_type": "code",
   "execution_count": 273,
   "metadata": {},
   "outputs": [
    {
     "name": "stdout",
     "output_type": "stream",
     "text": [
      "2016-02-08 00:37:08\n",
      "2016-02-08 06:37:08\n"
     ]
    }
   ],
   "source": [
    "a = df[\"Start_Time\"][0]\n",
    "b = df[\"End_Time\"][0]\n",
    "print(a)\n",
    "print(b)"
   ]
  },
  {
   "cell_type": "code",
   "execution_count": 274,
   "metadata": {},
   "outputs": [],
   "source": [
    "format_t = \"%Y-%m-%d %H:%M:%S\""
   ]
  },
  {
   "cell_type": "code",
   "execution_count": 275,
   "metadata": {},
   "outputs": [],
   "source": [
    "a_dt = datetime.strptime(a, format_t)\n",
    "b_dt = datetime.strptime(b, format_t)"
   ]
  },
  {
   "cell_type": "code",
   "execution_count": 276,
   "metadata": {},
   "outputs": [],
   "source": [
    "time_diff = b_dt - a_dt"
   ]
  },
  {
   "cell_type": "code",
   "execution_count": 277,
   "metadata": {},
   "outputs": [
    {
     "data": {
      "text/plain": [
       "360.0"
      ]
     },
     "execution_count": 277,
     "metadata": {},
     "output_type": "execute_result"
    }
   ],
   "source": [
    "time_diff.total_seconds() / 60"
   ]
  },
  {
   "cell_type": "code",
   "execution_count": 278,
   "metadata": {},
   "outputs": [],
   "source": [
    "def to_datetime(row):\n",
    "    '''\n",
    "    account for diff length/spots after decimal :)\n",
    "    2016-02-08 00:37:08\n",
    "    2021-11-11 19:36:30.000000000\n",
    "    2021-10-23 15:50:00.000000\n",
    "    '''\n",
    "    format_t = \"%Y-%m-%d %H:%M:%S\"\n",
    "\n",
    "    if len(row[\"Start_Time\"]) == 19:\n",
    "        dt = datetime.strptime(row[\"Start_Time\"], format_t)\n",
    "    \n",
    "    elif len(row[\"Start_Time\"]) == 26:\n",
    "        dt = datetime.strptime(row[\"Start_Time\"][:-7], format_t)\n",
    "    \n",
    "    elif len(row[\"Start_Time\"]) == 29:\n",
    "        dt = datetime.strptime(row[\"Start_Time\"][:-10], format_t)\n",
    "    \n",
    "    return dt"
   ]
  },
  {
   "cell_type": "code",
   "execution_count": 279,
   "metadata": {},
   "outputs": [],
   "source": [
    "def time_diff(row):\n",
    "    '''\n",
    "    account for diff length/spots after decimal :)\n",
    "    2016-02-08 00:37:08\n",
    "    2021-11-11 19:36:30.000000000\n",
    "    2021-10-23 15:50:00.000000\n",
    "    '''\n",
    "    format_t = \"%Y-%m-%d %H:%M:%S\"\n",
    "    \n",
    "    if len(row[\"End_Time\"]) == 19:\n",
    "        diff = (datetime.strptime(row[\"End_Time\"], format_t) - datetime.strptime(row[\"Start_Time\"], format_t))\n",
    "    \n",
    "    elif len(row[\"End_Time\"]) == 26:\n",
    "        diff = (datetime.strptime(row[\"End_Time\"][:-7], format_t) - datetime.strptime(row[\"Start_Time\"][:-7], format_t))\n",
    "    \n",
    "    elif len(row[\"End_Time\"]) == 29:\n",
    "        diff = (datetime.strptime(row[\"End_Time\"][:-10], format_t) - datetime.strptime(row[\"Start_Time\"][:-10], format_t))\n",
    "\n",
    "    diff = diff.total_seconds() / 60\n",
    "    \n",
    "    return diff\n"
   ]
  },
  {
   "cell_type": "code",
   "execution_count": 280,
   "metadata": {},
   "outputs": [],
   "source": [
    "df[\"duration(min)\"] = df.apply(lambda row: time_diff(row), axis=1)"
   ]
  },
  {
   "cell_type": "code",
   "execution_count": 281,
   "metadata": {},
   "outputs": [
    {
     "data": {
      "text/plain": [
       "count    2.845342e+06\n",
       "mean     3.590335e+02\n",
       "std      9.329918e+03\n",
       "min      2.000000e+00\n",
       "25%      7.398333e+01\n",
       "50%      1.200000e+02\n",
       "75%      2.236833e+02\n",
       "max      1.682579e+06\n",
       "Name: duration(min), dtype: float64"
      ]
     },
     "execution_count": 281,
     "metadata": {},
     "output_type": "execute_result"
    }
   ],
   "source": [
    "df[\"duration(min)\"].describe()"
   ]
  },
  {
   "cell_type": "code",
   "execution_count": 282,
   "metadata": {},
   "outputs": [],
   "source": [
    "#we have a lot of values that are longer than a month, some that are not severity 4\n",
    "#dropping columns that are over a certain threshold (starting with 3 days)\n",
    "duration_threshold = 4320 # mins in 3 days\n",
    "df = df[df[\"duration(min)\"] < duration_threshold]"
   ]
  },
  {
   "cell_type": "code",
   "execution_count": 283,
   "metadata": {},
   "outputs": [
    {
     "data": {
      "text/plain": [
       "count    2.841336e+06\n",
       "mean     1.759215e+02\n",
       "std      2.098375e+02\n",
       "min      2.000000e+00\n",
       "25%      7.378333e+01\n",
       "50%      1.200000e+02\n",
       "75%      2.220000e+02\n",
       "max      4.319983e+03\n",
       "Name: duration(min), dtype: float64"
      ]
     },
     "execution_count": 283,
     "metadata": {},
     "output_type": "execute_result"
    }
   ],
   "source": [
    "df[\"duration(min)\"].describe()"
   ]
  },
  {
   "cell_type": "code",
   "execution_count": 284,
   "metadata": {},
   "outputs": [
    {
     "data": {
      "text/plain": [
       "(array([1.108021e+06, 8.861110e+05, 2.495650e+05, 6.442600e+04,\n",
       "        3.936900e+05, 2.634600e+04, 2.012000e+04, 1.886300e+04,\n",
       "        1.986300e+04, 1.804500e+04, 9.621000e+03, 3.998000e+03,\n",
       "        2.114000e+03, 1.366000e+03, 1.144000e+03, 1.331000e+03,\n",
       "        1.462000e+03, 7.416000e+03, 2.281000e+03, 8.490000e+02,\n",
       "        3.130000e+02, 2.220000e+02, 3.060000e+02, 2.690000e+02,\n",
       "        4.160000e+02, 3.730000e+02, 3.640000e+02, 3.410000e+02,\n",
       "        2.010000e+02, 1.760000e+02, 1.140000e+02, 5.600000e+01,\n",
       "        4.700000e+01, 1.180000e+02, 1.320000e+02, 5.900000e+01,\n",
       "        8.400000e+01, 5.100000e+01, 6.800000e+01, 1.020000e+02,\n",
       "        1.140000e+02, 1.200000e+02, 1.480000e+02, 1.540000e+02,\n",
       "        1.070000e+02, 7.600000e+01, 5.400000e+01, 4.300000e+01,\n",
       "        3.200000e+01, 4.400000e+01]),\n",
       " array([2.00000000e+00, 8.83596667e+01, 1.74719333e+02, 2.61079000e+02,\n",
       "        3.47438667e+02, 4.33798333e+02, 5.20158000e+02, 6.06517667e+02,\n",
       "        6.92877333e+02, 7.79237000e+02, 8.65596667e+02, 9.51956333e+02,\n",
       "        1.03831600e+03, 1.12467567e+03, 1.21103533e+03, 1.29739500e+03,\n",
       "        1.38375467e+03, 1.47011433e+03, 1.55647400e+03, 1.64283367e+03,\n",
       "        1.72919333e+03, 1.81555300e+03, 1.90191267e+03, 1.98827233e+03,\n",
       "        2.07463200e+03, 2.16099167e+03, 2.24735133e+03, 2.33371100e+03,\n",
       "        2.42007067e+03, 2.50643033e+03, 2.59279000e+03, 2.67914967e+03,\n",
       "        2.76550933e+03, 2.85186900e+03, 2.93822867e+03, 3.02458833e+03,\n",
       "        3.11094800e+03, 3.19730767e+03, 3.28366733e+03, 3.37002700e+03,\n",
       "        3.45638667e+03, 3.54274633e+03, 3.62910600e+03, 3.71546567e+03,\n",
       "        3.80182533e+03, 3.88818500e+03, 3.97454467e+03, 4.06090433e+03,\n",
       "        4.14726400e+03, 4.23362367e+03, 4.31998333e+03]),\n",
       " <BarContainer object of 50 artists>)"
      ]
     },
     "execution_count": 284,
     "metadata": {},
     "output_type": "execute_result"
    },
    {
     "data": {
      "image/png": "[encoded data removed]",
      "text/plain": [
       "<Figure size 1700x1000 with 1 Axes>"
      ]
     },
     "metadata": {},
     "output_type": "display_data"
    }
   ],
   "source": [
    "plt.hist(df[\"duration(min)\"], bins=50)"
   ]
  },
  {
   "cell_type": "code",
   "execution_count": 285,
   "metadata": {},
   "outputs": [
    {
     "data": {
      "text/plain": [
       "Index(['ID', 'Severity', 'Start_Time', 'End_Time', 'Start_Lat', 'Start_Lng',\n",
       "       'End_Lat', 'End_Lng', 'Distance(mi)', 'Description', 'Number', 'Street',\n",
       "       'Side', 'City', 'County', 'State', 'Zipcode', 'Country', 'Timezone',\n",
       "       'Airport_Code', 'Weather_Timestamp', 'Temperature(F)', 'Wind_Chill(F)',\n",
       "       'Humidity(%)', 'Pressure(in)', 'Visibility(mi)', 'Wind_Direction',\n",
       "       'Wind_Speed(mph)', 'Precipitation(in)', 'Weather_Condition', 'Amenity',\n",
       "       'Bump', 'Crossing', 'Give_Way', 'Junction', 'No_Exit', 'Railway',\n",
       "       'Roundabout', 'Station', 'Stop', 'Traffic_Calming', 'Traffic_Signal',\n",
       "       'Turning_Loop', 'Sunrise_Sunset', 'Civil_Twilight', 'Nautical_Twilight',\n",
       "       'Astronomical_Twilight', 'duration(min)'],\n",
       "      dtype='object')"
      ]
     },
     "execution_count": 285,
     "metadata": {},
     "output_type": "execute_result"
    }
   ],
   "source": [
    "#what features to consider for prediction?\n",
    "df.columns"
   ]
  },
  {
   "cell_type": "code",
   "execution_count": 286,
   "metadata": {},
   "outputs": [
    {
     "data": {
      "text/plain": [
       "ID                             0\n",
       "Severity                       0\n",
       "Start_Time                     0\n",
       "End_Time                       0\n",
       "Start_Lat                      0\n",
       "Start_Lng                      0\n",
       "End_Lat                        0\n",
       "End_Lng                        0\n",
       "Distance(mi)                   0\n",
       "Description                    0\n",
       "Number                   1741582\n",
       "Street                         2\n",
       "Side                           0\n",
       "City                         137\n",
       "County                         0\n",
       "State                          0\n",
       "Zipcode                     1317\n",
       "Country                        0\n",
       "Timezone                    3654\n",
       "Airport_Code                9544\n",
       "Weather_Timestamp          50688\n",
       "Temperature(F)             69146\n",
       "Wind_Chill(F)             469060\n",
       "Humidity(%)                72961\n",
       "Pressure(in)               59137\n",
       "Visibility(mi)             70396\n",
       "Wind_Direction             73620\n",
       "Wind_Speed(mph)           157685\n",
       "Precipitation(in)         548893\n",
       "Weather_Condition          70501\n",
       "Amenity                        0\n",
       "Bump                           0\n",
       "Crossing                       0\n",
       "Give_Way                       0\n",
       "Junction                       0\n",
       "No_Exit                        0\n",
       "Railway                        0\n",
       "Roundabout                     0\n",
       "Station                        0\n",
       "Stop                           0\n",
       "Traffic_Calming                0\n",
       "Traffic_Signal                 0\n",
       "Turning_Loop                   0\n",
       "Sunrise_Sunset              2850\n",
       "Civil_Twilight              2850\n",
       "Nautical_Twilight           2850\n",
       "Astronomical_Twilight       2850\n",
       "duration(min)                  0\n",
       "dtype: int64"
      ]
     },
     "execution_count": 286,
     "metadata": {},
     "output_type": "execute_result"
    }
   ],
   "source": [
    "#county, state have 0 null, so we can use that instead of zipcode to preserve more data\n",
    "#or we can drop 1317 datapoints\n",
    "df.isnull().sum()"
   ]
  },
  {
   "cell_type": "code",
   "execution_count": 288,
   "metadata": {},
   "outputs": [],
   "source": [
    "features = [\"Severity\", \"Time_of_Incident\", \"Temperature(F)\", \"Visibility(mi)\",\n",
    "\"Precipitation(in)\", \"Weather_Condition\", \"Junction\", \"Stop\", \"Traffic_Signal\",\n",
    "\"Sunrise_Sunset\", \"Zipcode\", \"duration(min)\"]\n",
    "\n",
    "#val_to_predict = \"duration(min)\""
   ]
  },
  {
   "cell_type": "code",
   "execution_count": 289,
   "metadata": {},
   "outputs": [
    {
     "data": {
      "text/plain": [
       "Index(['Severity', 'Time_of_Incident', 'Temperature(F)', 'Visibility(mi)',\n",
       "       'Precipitation(in)', 'Weather_Condition', 'Junction', 'Stop',\n",
       "       'Traffic_Signal', 'Sunrise_Sunset', 'Zipcode', 'duration(min)'],\n",
       "      dtype='object')"
      ]
     },
     "execution_count": 289,
     "metadata": {},
     "output_type": "execute_result"
    }
   ],
   "source": [
    "#y = df[val_to_predict]\n",
    "df = df[features]\n",
    "df.columns"
   ]
  },
  {
   "cell_type": "code",
   "execution_count": 287,
   "metadata": {},
   "outputs": [],
   "source": [
    "#to prep the start time column to use as a feature,\n",
    "#I need to create categorical columns based on the info (hour of the day, day of the week, month of the year)\n",
    "\n",
    "df[\"Time_of_Incident\"] = df.apply(lambda row: to_datetime(row), axis=1)"
   ]
  },
  {
   "cell_type": "code",
   "execution_count": null,
   "metadata": {},
   "outputs": [
    {
     "data": {
      "text/plain": [
       "0         2016-02-08 00:37:08\n",
       "1         2016-02-08 05:56:20\n",
       "2         2016-02-08 06:15:39\n",
       "3         2016-02-08 06:51:45\n",
       "4         2016-02-08 07:53:43\n",
       "                  ...        \n",
       "2845337   2019-08-23 18:03:25\n",
       "2845338   2019-08-23 19:11:30\n",
       "2845339   2019-08-23 19:00:21\n",
       "2845340   2019-08-23 19:00:21\n",
       "2845341   2019-08-23 18:52:06\n",
       "Name: Time_of_Incident, Length: 2841336, dtype: datetime64[ns]"
      ]
     },
     "execution_count": 37,
     "metadata": {},
     "output_type": "execute_result"
    }
   ],
   "source": [
    "df[\"Time_of_Incident\"]"
   ]
  },
  {
   "cell_type": "code",
   "execution_count": 290,
   "metadata": {},
   "outputs": [
    {
     "data": {
      "text/html": [
       "<div>\n",
       "<style scoped>\n",
       "    .dataframe tbody tr th:only-of-type {\n",
       "        vertical-align: middle;\n",
       "    }\n",
       "\n",
       "    .dataframe tbody tr th {\n",
       "        vertical-align: top;\n",
       "    }\n",
       "\n",
       "    .dataframe thead th {\n",
       "        text-align: right;\n",
       "    }\n",
       "</style>\n",
       "<table border=\"1\" class=\"dataframe\">\n",
       "  <thead>\n",
       "    <tr style=\"text-align: right;\">\n",
       "      <th></th>\n",
       "      <th>Severity</th>\n",
       "      <th>Time_of_Incident</th>\n",
       "      <th>Temperature(F)</th>\n",
       "      <th>Visibility(mi)</th>\n",
       "      <th>Precipitation(in)</th>\n",
       "      <th>Weather_Condition</th>\n",
       "      <th>Junction</th>\n",
       "      <th>Stop</th>\n",
       "      <th>Traffic_Signal</th>\n",
       "      <th>Sunrise_Sunset</th>\n",
       "      <th>Zipcode</th>\n",
       "      <th>duration(min)</th>\n",
       "    </tr>\n",
       "  </thead>\n",
       "  <tbody>\n",
       "    <tr>\n",
       "      <th>0</th>\n",
       "      <td>3</td>\n",
       "      <td>2016-02-08 00:37:08</td>\n",
       "      <td>42.1</td>\n",
       "      <td>10.0</td>\n",
       "      <td>0.00</td>\n",
       "      <td>Light Rain</td>\n",
       "      <td>False</td>\n",
       "      <td>False</td>\n",
       "      <td>False</td>\n",
       "      <td>Night</td>\n",
       "      <td>43017</td>\n",
       "      <td>360.0</td>\n",
       "    </tr>\n",
       "    <tr>\n",
       "      <th>1</th>\n",
       "      <td>2</td>\n",
       "      <td>2016-02-08 05:56:20</td>\n",
       "      <td>36.9</td>\n",
       "      <td>10.0</td>\n",
       "      <td>0.02</td>\n",
       "      <td>Light Rain</td>\n",
       "      <td>False</td>\n",
       "      <td>False</td>\n",
       "      <td>False</td>\n",
       "      <td>Night</td>\n",
       "      <td>45424</td>\n",
       "      <td>360.0</td>\n",
       "    </tr>\n",
       "    <tr>\n",
       "      <th>2</th>\n",
       "      <td>2</td>\n",
       "      <td>2016-02-08 06:15:39</td>\n",
       "      <td>36.0</td>\n",
       "      <td>10.0</td>\n",
       "      <td>0.02</td>\n",
       "      <td>Overcast</td>\n",
       "      <td>True</td>\n",
       "      <td>False</td>\n",
       "      <td>False</td>\n",
       "      <td>Night</td>\n",
       "      <td>45203</td>\n",
       "      <td>360.0</td>\n",
       "    </tr>\n",
       "    <tr>\n",
       "      <th>3</th>\n",
       "      <td>2</td>\n",
       "      <td>2016-02-08 06:51:45</td>\n",
       "      <td>39.0</td>\n",
       "      <td>10.0</td>\n",
       "      <td>NaN</td>\n",
       "      <td>Overcast</td>\n",
       "      <td>False</td>\n",
       "      <td>False</td>\n",
       "      <td>False</td>\n",
       "      <td>Night</td>\n",
       "      <td>44311</td>\n",
       "      <td>360.0</td>\n",
       "    </tr>\n",
       "    <tr>\n",
       "      <th>4</th>\n",
       "      <td>3</td>\n",
       "      <td>2016-02-08 07:53:43</td>\n",
       "      <td>37.0</td>\n",
       "      <td>10.0</td>\n",
       "      <td>0.01</td>\n",
       "      <td>Light Rain</td>\n",
       "      <td>False</td>\n",
       "      <td>False</td>\n",
       "      <td>False</td>\n",
       "      <td>Day</td>\n",
       "      <td>45217</td>\n",
       "      <td>360.0</td>\n",
       "    </tr>\n",
       "  </tbody>\n",
       "</table>\n",
       "</div>"
      ],
      "text/plain": [
       "   Severity    Time_of_Incident  Temperature(F)  Visibility(mi)  \\\n",
       "0         3 2016-02-08 00:37:08            42.1            10.0   \n",
       "1         2 2016-02-08 05:56:20            36.9            10.0   \n",
       "2         2 2016-02-08 06:15:39            36.0            10.0   \n",
       "3         2 2016-02-08 06:51:45            39.0            10.0   \n",
       "4         3 2016-02-08 07:53:43            37.0            10.0   \n",
       "\n",
       "   Precipitation(in) Weather_Condition  Junction   Stop  Traffic_Signal  \\\n",
       "0               0.00        Light Rain     False  False           False   \n",
       "1               0.02        Light Rain     False  False           False   \n",
       "2               0.02          Overcast      True  False           False   \n",
       "3                NaN          Overcast     False  False           False   \n",
       "4               0.01        Light Rain     False  False           False   \n",
       "\n",
       "  Sunrise_Sunset Zipcode  duration(min)  \n",
       "0          Night   43017          360.0  \n",
       "1          Night   45424          360.0  \n",
       "2          Night   45203          360.0  \n",
       "3          Night   44311          360.0  \n",
       "4            Day   45217          360.0  "
      ]
     },
     "execution_count": 290,
     "metadata": {},
     "output_type": "execute_result"
    }
   ],
   "source": [
    "df.head(5)"
   ]
  },
  {
   "cell_type": "code",
   "execution_count": null,
   "metadata": {},
   "outputs": [
    {
     "data": {
      "text/plain": [
       "0"
      ]
     },
     "execution_count": 47,
     "metadata": {},
     "output_type": "execute_result"
    }
   ],
   "source": [
    "tmp = df[\"Time_of_Incident\"].iloc[0]\n",
    "tmp.day_name()\n",
    "tmp.hour"
   ]
  },
  {
   "cell_type": "code",
   "execution_count": 291,
   "metadata": {},
   "outputs": [],
   "source": [
    "#create column of day of week to get dummies for\n",
    "df[\"Day\"] = df.apply(lambda row: row.Time_of_Incident.day_name(), axis=1)"
   ]
  },
  {
   "cell_type": "code",
   "execution_count": 292,
   "metadata": {},
   "outputs": [],
   "source": [
    "#same for hour of the day\n",
    "df[\"Hour\"] = df.apply(lambda row: row.Time_of_Incident.hour, axis=1)"
   ]
  },
  {
   "cell_type": "code",
   "execution_count": 103,
   "metadata": {},
   "outputs": [
    {
     "data": {
      "text/plain": [
       "(array([183194., 100121., 191068., 374306., 216907., 309728., 623609.,\n",
       "        389045., 211278., 242080.]),\n",
       " array([ 0. ,  2.3,  4.6,  6.9,  9.2, 11.5, 13.8, 16.1, 18.4, 20.7, 23. ]),\n",
       " <BarContainer object of 10 artists>)"
      ]
     },
     "execution_count": 103,
     "metadata": {},
     "output_type": "execute_result"
    },
    {
     "data": {
      "image/png": "[encoded data removed]",
      "text/plain": [
       "<Figure size 1300x900 with 1 Axes>"
      ]
     },
     "metadata": {},
     "output_type": "display_data"
    }
   ],
   "source": [
    "plt.hist(df.Hour)"
   ]
  },
  {
   "cell_type": "code",
   "execution_count": null,
   "metadata": {},
   "outputs": [
    {
     "data": {
      "text/html": [
       "<div>\n",
       "<style scoped>\n",
       "    .dataframe tbody tr th:only-of-type {\n",
       "        vertical-align: middle;\n",
       "    }\n",
       "\n",
       "    .dataframe tbody tr th {\n",
       "        vertical-align: top;\n",
       "    }\n",
       "\n",
       "    .dataframe thead th {\n",
       "        text-align: right;\n",
       "    }\n",
       "</style>\n",
       "<table border=\"1\" class=\"dataframe\">\n",
       "  <thead>\n",
       "    <tr style=\"text-align: right;\">\n",
       "      <th></th>\n",
       "      <th>Severity</th>\n",
       "      <th>Time_of_Incident</th>\n",
       "      <th>Temperature(F)</th>\n",
       "      <th>Visibility(mi)</th>\n",
       "      <th>Precipitation(in)</th>\n",
       "      <th>Weather_Condition</th>\n",
       "      <th>Junction</th>\n",
       "      <th>Stop</th>\n",
       "      <th>Traffic_Signal</th>\n",
       "      <th>Sunrise_Sunset</th>\n",
       "      <th>Zipcode</th>\n",
       "      <th>Day</th>\n",
       "      <th>Hour</th>\n",
       "    </tr>\n",
       "  </thead>\n",
       "  <tbody>\n",
       "    <tr>\n",
       "      <th>0</th>\n",
       "      <td>3</td>\n",
       "      <td>2016-02-08 00:37:08</td>\n",
       "      <td>42.1</td>\n",
       "      <td>10.0</td>\n",
       "      <td>0.00</td>\n",
       "      <td>Light Rain</td>\n",
       "      <td>False</td>\n",
       "      <td>False</td>\n",
       "      <td>False</td>\n",
       "      <td>Night</td>\n",
       "      <td>43017</td>\n",
       "      <td>Monday</td>\n",
       "      <td>0</td>\n",
       "    </tr>\n",
       "    <tr>\n",
       "      <th>1</th>\n",
       "      <td>2</td>\n",
       "      <td>2016-02-08 05:56:20</td>\n",
       "      <td>36.9</td>\n",
       "      <td>10.0</td>\n",
       "      <td>0.02</td>\n",
       "      <td>Light Rain</td>\n",
       "      <td>False</td>\n",
       "      <td>False</td>\n",
       "      <td>False</td>\n",
       "      <td>Night</td>\n",
       "      <td>45424</td>\n",
       "      <td>Monday</td>\n",
       "      <td>5</td>\n",
       "    </tr>\n",
       "    <tr>\n",
       "      <th>2</th>\n",
       "      <td>2</td>\n",
       "      <td>2016-02-08 06:15:39</td>\n",
       "      <td>36.0</td>\n",
       "      <td>10.0</td>\n",
       "      <td>0.02</td>\n",
       "      <td>Overcast</td>\n",
       "      <td>True</td>\n",
       "      <td>False</td>\n",
       "      <td>False</td>\n",
       "      <td>Night</td>\n",
       "      <td>45203</td>\n",
       "      <td>Monday</td>\n",
       "      <td>6</td>\n",
       "    </tr>\n",
       "    <tr>\n",
       "      <th>3</th>\n",
       "      <td>2</td>\n",
       "      <td>2016-02-08 06:51:45</td>\n",
       "      <td>39.0</td>\n",
       "      <td>10.0</td>\n",
       "      <td>NaN</td>\n",
       "      <td>Overcast</td>\n",
       "      <td>False</td>\n",
       "      <td>False</td>\n",
       "      <td>False</td>\n",
       "      <td>Night</td>\n",
       "      <td>44311</td>\n",
       "      <td>Monday</td>\n",
       "      <td>6</td>\n",
       "    </tr>\n",
       "    <tr>\n",
       "      <th>4</th>\n",
       "      <td>3</td>\n",
       "      <td>2016-02-08 07:53:43</td>\n",
       "      <td>37.0</td>\n",
       "      <td>10.0</td>\n",
       "      <td>0.01</td>\n",
       "      <td>Light Rain</td>\n",
       "      <td>False</td>\n",
       "      <td>False</td>\n",
       "      <td>False</td>\n",
       "      <td>Day</td>\n",
       "      <td>45217</td>\n",
       "      <td>Monday</td>\n",
       "      <td>7</td>\n",
       "    </tr>\n",
       "  </tbody>\n",
       "</table>\n",
       "</div>"
      ],
      "text/plain": [
       "   Severity    Time_of_Incident  Temperature(F)  Visibility(mi)  \\\n",
       "0         3 2016-02-08 00:37:08            42.1            10.0   \n",
       "1         2 2016-02-08 05:56:20            36.9            10.0   \n",
       "2         2 2016-02-08 06:15:39            36.0            10.0   \n",
       "3         2 2016-02-08 06:51:45            39.0            10.0   \n",
       "4         3 2016-02-08 07:53:43            37.0            10.0   \n",
       "\n",
       "   Precipitation(in) Weather_Condition  Junction   Stop  Traffic_Signal  \\\n",
       "0               0.00        Light Rain     False  False           False   \n",
       "1               0.02        Light Rain     False  False           False   \n",
       "2               0.02          Overcast      True  False           False   \n",
       "3                NaN          Overcast     False  False           False   \n",
       "4               0.01        Light Rain     False  False           False   \n",
       "\n",
       "  Sunrise_Sunset Zipcode     Day  Hour  \n",
       "0          Night   43017  Monday     0  \n",
       "1          Night   45424  Monday     5  \n",
       "2          Night   45203  Monday     6  \n",
       "3          Night   44311  Monday     6  \n",
       "4            Day   45217  Monday     7  "
      ]
     },
     "execution_count": 104,
     "metadata": {},
     "output_type": "execute_result"
    }
   ],
   "source": [
    "df.head()"
   ]
  },
  {
   "cell_type": "code",
   "execution_count": 105,
   "metadata": {},
   "outputs": [
    {
     "data": {
      "text/plain": [
       "Severity                  0\n",
       "Time_of_Incident          0\n",
       "Temperature(F)        69146\n",
       "Visibility(mi)        70396\n",
       "Precipitation(in)    548893\n",
       "Weather_Condition     70501\n",
       "Junction                  0\n",
       "Stop                      0\n",
       "Traffic_Signal            0\n",
       "Sunrise_Sunset         2850\n",
       "Zipcode                1317\n",
       "Day                       0\n",
       "Hour                      0\n",
       "dtype: int64"
      ]
     },
     "execution_count": 105,
     "metadata": {},
     "output_type": "execute_result"
    }
   ],
   "source": [
    "df.isnull().sum()"
   ]
  },
  {
   "cell_type": "code",
   "execution_count": 108,
   "metadata": {},
   "outputs": [
    {
     "data": {
      "text/plain": [
       "<AxesSubplot: xlabel='duration(min)', ylabel='Count'>"
      ]
     },
     "execution_count": 108,
     "metadata": {},
     "output_type": "execute_result"
    },
    {
     "data": {
      "image/png": "[encoded data removed]",
      "text/plain": [
       "<Figure size 1300x900 with 1 Axes>"
      ]
     },
     "metadata": {},
     "output_type": "display_data"
    }
   ],
   "source": [
    "sns.histplot(y)"
   ]
  },
  {
   "cell_type": "code",
   "execution_count": 116,
   "metadata": {},
   "outputs": [
    {
     "data": {
      "text/plain": [
       "360.000000    353058\n",
       "240.000000     55394\n",
       "15.000000      37038\n",
       "30.000000      35345\n",
       "60.000000      28845\n",
       "75.000000      25794\n",
       "105.000000     24615\n",
       "45.000000      18568\n",
       "120.000000     16625\n",
       "20.000000      12938\n",
       "34.966667      11343\n",
       "75.016667      11186\n",
       "59.000000       8269\n",
       "49.966667       6229\n",
       "20.500000       5763\n",
       "Name: duration(min), dtype: int64"
      ]
     },
     "execution_count": 116,
     "metadata": {},
     "output_type": "execute_result"
    }
   ],
   "source": [
    "y.value_counts().sort_values(ascending=False).head(15)"
   ]
  },
  {
   "cell_type": "code",
   "execution_count": 117,
   "metadata": {},
   "outputs": [
    {
     "data": {
      "text/html": [
       "<div>\n",
       "<style scoped>\n",
       "    .dataframe tbody tr th:only-of-type {\n",
       "        vertical-align: middle;\n",
       "    }\n",
       "\n",
       "    .dataframe tbody tr th {\n",
       "        vertical-align: top;\n",
       "    }\n",
       "\n",
       "    .dataframe thead th {\n",
       "        text-align: right;\n",
       "    }\n",
       "</style>\n",
       "<table border=\"1\" class=\"dataframe\">\n",
       "  <thead>\n",
       "    <tr style=\"text-align: right;\">\n",
       "      <th></th>\n",
       "      <th>Severity</th>\n",
       "      <th>Time_of_Incident</th>\n",
       "      <th>Temperature(F)</th>\n",
       "      <th>Visibility(mi)</th>\n",
       "      <th>Precipitation(in)</th>\n",
       "      <th>Weather_Condition</th>\n",
       "      <th>Junction</th>\n",
       "      <th>Stop</th>\n",
       "      <th>Traffic_Signal</th>\n",
       "      <th>Sunrise_Sunset</th>\n",
       "      <th>Zipcode</th>\n",
       "      <th>Day</th>\n",
       "      <th>Hour</th>\n",
       "    </tr>\n",
       "  </thead>\n",
       "  <tbody>\n",
       "    <tr>\n",
       "      <th>0</th>\n",
       "      <td>3</td>\n",
       "      <td>2016-02-08 00:37:08</td>\n",
       "      <td>42.1</td>\n",
       "      <td>10.0</td>\n",
       "      <td>0.00</td>\n",
       "      <td>Light Rain</td>\n",
       "      <td>False</td>\n",
       "      <td>False</td>\n",
       "      <td>False</td>\n",
       "      <td>Night</td>\n",
       "      <td>43017</td>\n",
       "      <td>Monday</td>\n",
       "      <td>0</td>\n",
       "    </tr>\n",
       "    <tr>\n",
       "      <th>1</th>\n",
       "      <td>2</td>\n",
       "      <td>2016-02-08 05:56:20</td>\n",
       "      <td>36.9</td>\n",
       "      <td>10.0</td>\n",
       "      <td>0.02</td>\n",
       "      <td>Light Rain</td>\n",
       "      <td>False</td>\n",
       "      <td>False</td>\n",
       "      <td>False</td>\n",
       "      <td>Night</td>\n",
       "      <td>45424</td>\n",
       "      <td>Monday</td>\n",
       "      <td>5</td>\n",
       "    </tr>\n",
       "    <tr>\n",
       "      <th>2</th>\n",
       "      <td>2</td>\n",
       "      <td>2016-02-08 06:15:39</td>\n",
       "      <td>36.0</td>\n",
       "      <td>10.0</td>\n",
       "      <td>0.02</td>\n",
       "      <td>Overcast</td>\n",
       "      <td>True</td>\n",
       "      <td>False</td>\n",
       "      <td>False</td>\n",
       "      <td>Night</td>\n",
       "      <td>45203</td>\n",
       "      <td>Monday</td>\n",
       "      <td>6</td>\n",
       "    </tr>\n",
       "    <tr>\n",
       "      <th>3</th>\n",
       "      <td>2</td>\n",
       "      <td>2016-02-08 06:51:45</td>\n",
       "      <td>39.0</td>\n",
       "      <td>10.0</td>\n",
       "      <td>NaN</td>\n",
       "      <td>Overcast</td>\n",
       "      <td>False</td>\n",
       "      <td>False</td>\n",
       "      <td>False</td>\n",
       "      <td>Night</td>\n",
       "      <td>44311</td>\n",
       "      <td>Monday</td>\n",
       "      <td>6</td>\n",
       "    </tr>\n",
       "    <tr>\n",
       "      <th>4</th>\n",
       "      <td>3</td>\n",
       "      <td>2016-02-08 07:53:43</td>\n",
       "      <td>37.0</td>\n",
       "      <td>10.0</td>\n",
       "      <td>0.01</td>\n",
       "      <td>Light Rain</td>\n",
       "      <td>False</td>\n",
       "      <td>False</td>\n",
       "      <td>False</td>\n",
       "      <td>Day</td>\n",
       "      <td>45217</td>\n",
       "      <td>Monday</td>\n",
       "      <td>7</td>\n",
       "    </tr>\n",
       "  </tbody>\n",
       "</table>\n",
       "</div>"
      ],
      "text/plain": [
       "   Severity    Time_of_Incident  Temperature(F)  Visibility(mi)  \\\n",
       "0         3 2016-02-08 00:37:08            42.1            10.0   \n",
       "1         2 2016-02-08 05:56:20            36.9            10.0   \n",
       "2         2 2016-02-08 06:15:39            36.0            10.0   \n",
       "3         2 2016-02-08 06:51:45            39.0            10.0   \n",
       "4         3 2016-02-08 07:53:43            37.0            10.0   \n",
       "\n",
       "   Precipitation(in) Weather_Condition  Junction   Stop  Traffic_Signal  \\\n",
       "0               0.00        Light Rain     False  False           False   \n",
       "1               0.02        Light Rain     False  False           False   \n",
       "2               0.02          Overcast      True  False           False   \n",
       "3                NaN          Overcast     False  False           False   \n",
       "4               0.01        Light Rain     False  False           False   \n",
       "\n",
       "  Sunrise_Sunset Zipcode     Day  Hour  \n",
       "0          Night   43017  Monday     0  \n",
       "1          Night   45424  Monday     5  \n",
       "2          Night   45203  Monday     6  \n",
       "3          Night   44311  Monday     6  \n",
       "4            Day   45217  Monday     7  "
      ]
     },
     "execution_count": 117,
     "metadata": {},
     "output_type": "execute_result"
    }
   ],
   "source": [
    "df.head()"
   ]
  },
  {
   "cell_type": "code",
   "execution_count": null,
   "metadata": {},
   "outputs": [],
   "source": [
    "weather_conds = df[\"Weather_Condition\"].unique().tolist()"
   ]
  },
  {
   "cell_type": "code",
   "execution_count": null,
   "metadata": {},
   "outputs": [
    {
     "data": {
      "text/plain": [
       "Fair                       1105608\n",
       "Mostly Cloudy               363478\n",
       "Cloudy                      348125\n",
       "Partly Cloudy               249692\n",
       "Clear                       173603\n",
       "Light Rain                  128277\n",
       "Overcast                     84787\n",
       "Scattered Clouds             45087\n",
       "Light Snow                   43703\n",
       "Fog                          41177\n",
       "Haze                         36321\n",
       "Rain                         31009\n",
       "Fair / Windy                 15153\n",
       "Heavy Rain                   11815\n",
       "Smoke                         7154\n",
       "Light Drizzle                 7038\n",
       "Thunder in the Vicinity       6938\n",
       "Cloudy / Windy                6800\n",
       "T-Storm                       6544\n",
       "Mostly Cloudy / Windy         6280\n",
       "Name: Weather_Condition, dtype: int64"
      ]
     },
     "execution_count": 122,
     "metadata": {},
     "output_type": "execute_result"
    }
   ],
   "source": [
    "#we should probably clump the weather conditions/narrow them\n",
    "df[\"Weather_Condition\"].value_counts().head(20)"
   ]
  },
  {
   "cell_type": "code",
   "execution_count": null,
   "metadata": {},
   "outputs": [
    {
     "data": {
      "text/html": [
       "<div>\n",
       "<style scoped>\n",
       "    .dataframe tbody tr th:only-of-type {\n",
       "        vertical-align: middle;\n",
       "    }\n",
       "\n",
       "    .dataframe tbody tr th {\n",
       "        vertical-align: top;\n",
       "    }\n",
       "\n",
       "    .dataframe thead th {\n",
       "        text-align: right;\n",
       "    }\n",
       "</style>\n",
       "<table border=\"1\" class=\"dataframe\">\n",
       "  <thead>\n",
       "    <tr style=\"text-align: right;\">\n",
       "      <th></th>\n",
       "      <th>Severity</th>\n",
       "      <th>Temperature(F)</th>\n",
       "      <th>Visibility(mi)</th>\n",
       "      <th>Precipitation(in)</th>\n",
       "      <th>Hour</th>\n",
       "    </tr>\n",
       "  </thead>\n",
       "  <tbody>\n",
       "    <tr>\n",
       "      <th>count</th>\n",
       "      <td>41177.000000</td>\n",
       "      <td>40954.000000</td>\n",
       "      <td>41156.000000</td>\n",
       "      <td>37949.000000</td>\n",
       "      <td>41177.000000</td>\n",
       "    </tr>\n",
       "    <tr>\n",
       "      <th>mean</th>\n",
       "      <td>2.092260</td>\n",
       "      <td>49.180278</td>\n",
       "      <td>0.971636</td>\n",
       "      <td>0.001552</td>\n",
       "      <td>9.309007</td>\n",
       "    </tr>\n",
       "    <tr>\n",
       "      <th>std</th>\n",
       "      <td>0.407708</td>\n",
       "      <td>12.405101</td>\n",
       "      <td>0.770645</td>\n",
       "      <td>0.020841</td>\n",
       "      <td>6.513195</td>\n",
       "    </tr>\n",
       "    <tr>\n",
       "      <th>min</th>\n",
       "      <td>1.000000</td>\n",
       "      <td>-9.000000</td>\n",
       "      <td>0.000000</td>\n",
       "      <td>0.000000</td>\n",
       "      <td>0.000000</td>\n",
       "    </tr>\n",
       "    <tr>\n",
       "      <th>25%</th>\n",
       "      <td>2.000000</td>\n",
       "      <td>40.000000</td>\n",
       "      <td>0.250000</td>\n",
       "      <td>0.000000</td>\n",
       "      <td>5.000000</td>\n",
       "    </tr>\n",
       "    <tr>\n",
       "      <th>50%</th>\n",
       "      <td>2.000000</td>\n",
       "      <td>50.000000</td>\n",
       "      <td>1.000000</td>\n",
       "      <td>0.000000</td>\n",
       "      <td>7.000000</td>\n",
       "    </tr>\n",
       "    <tr>\n",
       "      <th>75%</th>\n",
       "      <td>2.000000</td>\n",
       "      <td>58.000000</td>\n",
       "      <td>2.000000</td>\n",
       "      <td>0.000000</td>\n",
       "      <td>14.000000</td>\n",
       "    </tr>\n",
       "    <tr>\n",
       "      <th>max</th>\n",
       "      <td>4.000000</td>\n",
       "      <td>84.200000</td>\n",
       "      <td>10.000000</td>\n",
       "      <td>2.310000</td>\n",
       "      <td>23.000000</td>\n",
       "    </tr>\n",
       "  </tbody>\n",
       "</table>\n",
       "</div>"
      ],
      "text/plain": [
       "           Severity  Temperature(F)  Visibility(mi)  Precipitation(in)  \\\n",
       "count  41177.000000    40954.000000    41156.000000       37949.000000   \n",
       "mean       2.092260       49.180278        0.971636           0.001552   \n",
       "std        0.407708       12.405101        0.770645           0.020841   \n",
       "min        1.000000       -9.000000        0.000000           0.000000   \n",
       "25%        2.000000       40.000000        0.250000           0.000000   \n",
       "50%        2.000000       50.000000        1.000000           0.000000   \n",
       "75%        2.000000       58.000000        2.000000           0.000000   \n",
       "max        4.000000       84.200000       10.000000           2.310000   \n",
       "\n",
       "               Hour  \n",
       "count  41177.000000  \n",
       "mean       9.309007  \n",
       "std        6.513195  \n",
       "min        0.000000  \n",
       "25%        5.000000  \n",
       "50%        7.000000  \n",
       "75%       14.000000  \n",
       "max       23.000000  "
      ]
     },
     "execution_count": 127,
     "metadata": {},
     "output_type": "execute_result"
    }
   ],
   "source": [
    "df[df[\"Weather_Condition\"] == \"Fog\"].describe()"
   ]
  },
  {
   "cell_type": "code",
   "execution_count": null,
   "metadata": {},
   "outputs": [
    {
     "name": "stdout",
     "output_type": "stream",
     "text": [
      "['Light Rain', 'Overcast', 'Mostly Cloudy', 'Snow', 'Light Snow', 'Cloudy', nan, 'Scattered Clouds', 'Clear', 'Partly Cloudy', 'Light Freezing Drizzle', 'Light Drizzle', 'Haze', 'Rain', 'Heavy Rain', 'Fair', 'Drizzle', 'Fog', 'Thunderstorms and Rain', 'Patches of Fog', 'Light Thunderstorms and Rain', 'Mist', 'Rain Showers', 'Light Rain Showers', 'Heavy Drizzle', 'Smoke', 'Light Freezing Fog', 'Light Freezing Rain', 'Blowing Snow', 'Heavy Thunderstorms and Rain', 'Heavy Snow', 'Snow Grains', 'Squalls', 'Light Fog', 'Shallow Fog', 'Thunderstorm', 'Light Ice Pellets', 'Thunder', 'Thunder in the Vicinity', 'Fair / Windy', 'Light Rain with Thunder', 'Heavy Thunderstorms and Snow', 'Light Snow Showers', 'Cloudy / Windy', 'Ice Pellets', 'N/A Precipitation', 'Light Thunderstorms and Snow', 'T-Storm', 'Rain / Windy', 'Wintry Mix', 'Partly Cloudy / Windy', 'Heavy T-Storm', 'Sand', 'Light Rain / Windy', 'Widespread Dust', 'Mostly Cloudy / Windy', 'Blowing Dust / Windy', 'Blowing Dust', 'Volcanic Ash', 'Freezing Rain / Windy', 'Small Hail', 'Wintry Mix / Windy', 'Light Snow / Windy', 'Heavy Ice Pellets', 'Heavy Snow / Windy', 'Heavy Rain / Windy', 'Heavy T-Storm / Windy', 'Fog / Windy', 'Dust Whirls', 'Showers in the Vicinity', 'Funnel Cloud', 'Thunder / Windy', 'Snow / Windy', 'Haze / Windy', 'Light Snow and Sleet', 'T-Storm / Windy', 'Sand / Dust Whirlwinds', 'Light Snow with Thunder', 'Rain Shower', 'Blowing Snow / Windy', 'Light Rain Shower', 'Snow and Sleet', 'Drizzle and Fog', 'Light Sleet', 'Drizzle / Windy', 'Light Snow Shower', 'Snow and Thunder / Windy', 'Light Sleet / Windy', 'Smoke / Windy', 'Widespread Dust / Windy', 'Light Drizzle / Windy', 'Tornado', 'Squalls / Windy', 'Hail', 'Blowing Snow Nearby', 'Partial Fog', 'Sand / Windy', 'Thunder / Wintry Mix', 'Light Freezing Rain / Windy', 'Duststorm', 'Light Snow and Sleet / Windy', 'Heavy Rain Shower / Windy', 'Sand / Dust Whirlwinds / Windy', 'Light Rain Shower / Windy', 'Thunder and Hail', 'Freezing Rain', 'Heavy Sleet', 'Sleet', 'Freezing Drizzle', 'Snow and Sleet / Windy', 'Heavy Freezing Drizzle', 'Heavy Freezing Rain', 'Blowing Sand', 'Thunder / Wintry Mix / Windy', 'Mist / Windy', 'Sleet / Windy', 'Patches of Fog / Windy', 'Sand / Dust Whirls Nearby', 'Heavy Rain Shower', 'Drifting Snow', 'Heavy Blowing Snow', 'Low Drifting Snow', 'Light Blowing Snow', 'Heavy Rain Showers', 'Light Haze', 'Heavy Thunderstorms with Small Hail', 'Heavy Snow with Thunder', 'Thunder and Hail / Windy']\n"
     ]
    }
   ],
   "source": [
    "#it would probably be useful to use visibility as well as weather condition as indicators, as well as overall visibility\n",
    "print(weather_conds)"
   ]
  },
  {
   "cell_type": "code",
   "execution_count": null,
   "metadata": {},
   "outputs": [
    {
     "data": {
      "text/plain": [
       "['Fair',\n",
       " 'Mostly Cloudy',\n",
       " 'Cloudy',\n",
       " 'Partly Cloudy',\n",
       " 'Clear',\n",
       " 'Light Rain',\n",
       " 'Overcast',\n",
       " 'Scattered Clouds',\n",
       " 'Light Snow',\n",
       " 'Fog',\n",
       " 'Haze',\n",
       " 'Rain',\n",
       " 'Fair / Windy',\n",
       " 'Heavy Rain',\n",
       " 'Smoke',\n",
       " 'Light Drizzle',\n",
       " 'Thunder in the Vicinity',\n",
       " 'Cloudy / Windy',\n",
       " 'T-Storm',\n",
       " 'Mostly Cloudy / Windy',\n",
       " 'Thunder',\n",
       " 'Light Rain with Thunder',\n",
       " 'Snow',\n",
       " 'Partly Cloudy / Windy',\n",
       " 'Wintry Mix',\n",
       " 'Heavy T-Storm',\n",
       " 'Light Rain / Windy',\n",
       " 'Light Snow / Windy',\n",
       " 'Drizzle',\n",
       " 'Heavy Snow',\n",
       " 'Rain / Windy',\n",
       " 'Light Thunderstorms and Rain',\n",
       " 'N/A Precipitation',\n",
       " 'Patches of Fog',\n",
       " 'Mist',\n",
       " 'Thunderstorm',\n",
       " 'Shallow Fog',\n",
       " 'Light Freezing Rain',\n",
       " 'Heavy Rain / Windy',\n",
       " 'Showers in the Vicinity',\n",
       " 'Haze / Windy',\n",
       " 'Heavy Thunderstorms and Rain',\n",
       " 'Thunderstorms and Rain',\n",
       " 'Snow / Windy',\n",
       " 'Light Freezing Fog',\n",
       " 'Heavy T-Storm / Windy',\n",
       " 'Light Freezing Drizzle',\n",
       " 'Fog / Windy',\n",
       " 'T-Storm / Windy',\n",
       " 'Thunder / Windy',\n",
       " 'Heavy Snow / Windy',\n",
       " 'Blowing Snow',\n",
       " 'Blowing Dust / Windy',\n",
       " 'Blowing Dust',\n",
       " 'Heavy Drizzle',\n",
       " 'Light Rain Shower',\n",
       " 'Drizzle and Fog',\n",
       " 'Snow and Sleet',\n",
       " 'Light Drizzle / Windy',\n",
       " 'Blowing Snow / Windy',\n",
       " 'Light Ice Pellets',\n",
       " 'Wintry Mix / Windy',\n",
       " 'Light Sleet',\n",
       " 'Widespread Dust',\n",
       " 'Sleet',\n",
       " 'Freezing Rain',\n",
       " 'Light Snow and Sleet',\n",
       " 'Light Rain Showers',\n",
       " 'Rain Shower',\n",
       " 'Ice Pellets',\n",
       " 'Light Freezing Rain / Windy',\n",
       " 'Small Hail',\n",
       " 'Rain Showers',\n",
       " 'Smoke / Windy',\n",
       " 'Partial Fog',\n",
       " 'Light Snow Shower',\n",
       " 'Squalls / Windy',\n",
       " 'Widespread Dust / Windy',\n",
       " 'Snow and Sleet / Windy',\n",
       " 'Light Snow and Sleet / Windy',\n",
       " 'Sand / Dust Whirlwinds',\n",
       " 'Heavy Sleet',\n",
       " 'Squalls',\n",
       " 'Freezing Drizzle',\n",
       " 'Light Snow with Thunder',\n",
       " 'Drizzle / Windy',\n",
       " 'Tornado',\n",
       " 'Snow Grains',\n",
       " 'Light Sleet / Windy',\n",
       " 'Light Rain Shower / Windy',\n",
       " 'Light Thunderstorms and Snow',\n",
       " 'Light Snow Showers',\n",
       " 'Thunder / Wintry Mix',\n",
       " 'Volcanic Ash',\n",
       " 'Patches of Fog / Windy',\n",
       " 'Heavy Thunderstorms and Snow',\n",
       " 'Heavy Rain Shower',\n",
       " 'Hail',\n",
       " 'Heavy Snow with Thunder',\n",
       " 'Sand / Windy',\n",
       " 'Heavy Freezing Drizzle',\n",
       " 'Heavy Ice Pellets',\n",
       " 'Funnel Cloud',\n",
       " 'Snow and Thunder / Windy',\n",
       " 'Blowing Snow Nearby',\n",
       " 'Freezing Rain / Windy',\n",
       " 'Duststorm',\n",
       " 'Sand',\n",
       " 'Thunder / Wintry Mix / Windy',\n",
       " 'Thunder and Hail',\n",
       " 'Light Blowing Snow',\n",
       " 'Light Fog',\n",
       " 'Heavy Freezing Rain',\n",
       " 'Blowing Sand',\n",
       " 'Mist / Windy',\n",
       " 'Sleet / Windy',\n",
       " 'Heavy Rain Shower / Windy',\n",
       " 'Sand / Dust Whirls Nearby',\n",
       " 'Drifting Snow',\n",
       " 'Dust Whirls',\n",
       " 'Heavy Blowing Snow',\n",
       " 'Low Drifting Snow',\n",
       " 'Heavy Rain Showers',\n",
       " 'Light Haze',\n",
       " 'Heavy Thunderstorms with Small Hail',\n",
       " 'Sand / Dust Whirlwinds / Windy',\n",
       " 'Thunder and Hail / Windy']"
      ]
     },
     "execution_count": 144,
     "metadata": {},
     "output_type": "execute_result"
    }
   ],
   "source": [
    "df[\"Weather_Condition\"].value_counts().sort_values(ascending=False).index.tolist()"
   ]
  },
  {
   "cell_type": "code",
   "execution_count": null,
   "metadata": {},
   "outputs": [],
   "source": [
    "#we probably aren't losing much data by just dropping the vals that make up a small percentage of the samples, but some should be included"
   ]
  },
  {
   "cell_type": "code",
   "execution_count": 293,
   "metadata": {},
   "outputs": [],
   "source": [
    "def narrow_weather(row):\n",
    "    #define keywords to categorize by\n",
    "    keywords = {\n",
    "        \"rain\" : \"rain\",\n",
    "        \"storm\" : \"storm\",\n",
    "        \"drizzle\" : \"rain\",\n",
    "        \"snow\" : \"snow\",\n",
    "        \"sleet\" : \"snow\",\n",
    "        \"fair\" : \"fair\",\n",
    "        \"clear\" : \"fair\",\n",
    "        \"windy\" : \"windy\",\n",
    "        \"fog\" : \"fog\",\n",
    "        \"haze\" : \"fog\",\n",
    "        \"hail\" : \"hail\",\n",
    "        \"thunder\" : \"storm\",\n",
    "        \"overcast\" : \"cloudy\",\n",
    "        \"cloud\" : \"cloudy\",\n",
    "        \"wintry\" : \"snow\",\n",
    "        \"drizzle\" : \"rain\",\n",
    "        \"mist\" : \"fog\",\n",
    "        \"smoke\" : \"smoke\",\n",
    "        \"shower\" : \"rain\",\n",
    "        \"precipitation\" : \"rain\",\n",
    "        \"dust\" : \"dust\",\n",
    "        \"ice\" : \"hail\",\n",
    "        \"sand\" : \"dust\",\n",
    "        \"squall\" : \"storm\",\n",
    "    }\n",
    "    \n",
    "    entry = np.nan\n",
    "    for k, v in keywords.items():\n",
    "        if k in row[\"Weather_Condition\"].lower():\n",
    "            entry = v\n",
    "\n",
    "    return entry\n"
   ]
  },
  {
   "cell_type": "code",
   "execution_count": 294,
   "metadata": {},
   "outputs": [
    {
     "data": {
      "text/plain": [
       "0.9751873766425372"
      ]
     },
     "execution_count": 294,
     "metadata": {},
     "output_type": "execute_result"
    }
   ],
   "source": [
    "df.dropna(subset=[\"Weather_Condition\"]).shape[0] / df.shape[0]"
   ]
  },
  {
   "cell_type": "code",
   "execution_count": 295,
   "metadata": {},
   "outputs": [],
   "source": [
    "#drop weather nans\n",
    "df.dropna(subset=[\"Weather_Condition\"], inplace=True)\n",
    "df[\"weather\"] = df.apply(lambda row: narrow_weather(row), axis=1)"
   ]
  },
  {
   "cell_type": "code",
   "execution_count": 296,
   "metadata": {},
   "outputs": [
    {
     "data": {
      "text/plain": [
       "0.9999953082734988"
      ]
     },
     "execution_count": 296,
     "metadata": {},
     "output_type": "execute_result"
    }
   ],
   "source": [
    "df[\"weather\"].value_counts().sum() / df.shape[0]"
   ]
  },
  {
   "cell_type": "code",
   "execution_count": 297,
   "metadata": {},
   "outputs": [
    {
     "data": {
      "text/plain": [
       "Tornado         9\n",
       "Volcanic Ash    4\n",
       "Name: Weather_Condition, dtype: int64"
      ]
     },
     "execution_count": 297,
     "metadata": {},
     "output_type": "execute_result"
    }
   ],
   "source": [
    "df[df[\"weather\"].isna()][\"Weather_Condition\"].value_counts()"
   ]
  },
  {
   "cell_type": "code",
   "execution_count": 298,
   "metadata": {},
   "outputs": [
    {
     "data": {
      "text/plain": [
       "Severity              0.000000\n",
       "Time_of_Incident      0.000000\n",
       "Temperature(F)        0.411284\n",
       "Visibility(mi)        0.261293\n",
       "Precipitation(in)    17.713794\n",
       "Weather_Condition     0.000000\n",
       "Junction              0.000000\n",
       "Stop                  0.000000\n",
       "Traffic_Signal        0.000000\n",
       "Sunrise_Sunset        0.080950\n",
       "Zipcode               0.000000\n",
       "duration(min)         0.000000\n",
       "Day                   0.000000\n",
       "Hour                  0.000000\n",
       "weather               0.000469\n",
       "dtype: float64"
      ]
     },
     "execution_count": 298,
     "metadata": {},
     "output_type": "execute_result"
    }
   ],
   "source": [
    "df.isnull().mean() * 100"
   ]
  },
  {
   "cell_type": "code",
   "execution_count": 299,
   "metadata": {},
   "outputs": [
    {
     "data": {
      "text/plain": [
       "cloudy    248753\n",
       "fair      217654\n",
       "fog        11168\n",
       "rain        7612\n",
       "snow        2595\n",
       "storm       1210\n",
       "smoke       1167\n",
       "windy        594\n",
       "dust          48\n",
       "hail          15\n",
       "Name: weather, dtype: int64"
      ]
     },
     "execution_count": 299,
     "metadata": {},
     "output_type": "execute_result"
    }
   ],
   "source": [
    "df[df[\"Precipitation(in)\"].isna()][\"weather\"].value_counts()"
   ]
  },
  {
   "cell_type": "code",
   "execution_count": 300,
   "metadata": {},
   "outputs": [],
   "source": [
    "#replace N/A precipitation with 0, since most are for clear/overcast weather\n",
    "#there is potential that precipitation is 0 but also wet/snowy conditions, \n",
    "#so will not drop those values unless it clearly poorly affects model later.\n",
    "df[\"Precipitation(in)\"].fillna(value=0.0, inplace=True)"
   ]
  },
  {
   "cell_type": "code",
   "execution_count": 301,
   "metadata": {},
   "outputs": [],
   "source": [
    "assert df[df[\"Precipitation(in)\"].isna()][\"weather\"].value_counts().shape[0] == 0 "
   ]
  },
  {
   "cell_type": "code",
   "execution_count": 302,
   "metadata": {},
   "outputs": [
    {
     "data": {
      "text/plain": [
       "Severity             0.000000\n",
       "Time_of_Incident     0.000000\n",
       "Temperature(F)       0.411284\n",
       "Visibility(mi)       0.261293\n",
       "Precipitation(in)    0.000000\n",
       "Weather_Condition    0.000000\n",
       "Junction             0.000000\n",
       "Stop                 0.000000\n",
       "Traffic_Signal       0.000000\n",
       "Sunrise_Sunset       0.080950\n",
       "Zipcode              0.000000\n",
       "duration(min)        0.000000\n",
       "Day                  0.000000\n",
       "Hour                 0.000000\n",
       "weather              0.000469\n",
       "dtype: float64"
      ]
     },
     "execution_count": 302,
     "metadata": {},
     "output_type": "execute_result"
    }
   ],
   "source": [
    "df.isnull().mean() * 100"
   ]
  },
  {
   "cell_type": "code",
   "execution_count": 303,
   "metadata": {},
   "outputs": [],
   "source": [
    "#dropping where temp, weather & visibility are null.\n",
    "df = df.dropna(subset=[\"Visibility(mi)\", \"Temperature(F)\", \"weather\"])"
   ]
  },
  {
   "cell_type": "code",
   "execution_count": 304,
   "metadata": {},
   "outputs": [
    {
     "data": {
      "text/plain": [
       "Severity             0.000000\n",
       "Time_of_Incident     0.000000\n",
       "Temperature(F)       0.000000\n",
       "Visibility(mi)       0.000000\n",
       "Precipitation(in)    0.000000\n",
       "Weather_Condition    0.000000\n",
       "Junction             0.000000\n",
       "Stop                 0.000000\n",
       "Traffic_Signal       0.000000\n",
       "Sunrise_Sunset       0.080575\n",
       "Zipcode              0.000000\n",
       "duration(min)        0.000000\n",
       "Day                  0.000000\n",
       "Hour                 0.000000\n",
       "weather              0.000000\n",
       "dtype: float64"
      ]
     },
     "execution_count": 304,
     "metadata": {},
     "output_type": "execute_result"
    }
   ],
   "source": [
    "df.isnull().mean() * 100"
   ]
  },
  {
   "cell_type": "code",
   "execution_count": 305,
   "metadata": {},
   "outputs": [],
   "source": [
    "#checking sunrise sunset hour values, out of curiosity\n",
    "df[df[\"Sunrise_Sunset\"].isnull()][\"Hour\"].value_counts()\n",
    "#no real distribution, lines up with common driving hours. dropping\n",
    "df = df.dropna(subset=[\"Sunrise_Sunset\"])"
   ]
  },
  {
   "cell_type": "code",
   "execution_count": 306,
   "metadata": {},
   "outputs": [
    {
     "data": {
      "text/plain": [
       "Severity             0.0\n",
       "Time_of_Incident     0.0\n",
       "Temperature(F)       0.0\n",
       "Visibility(mi)       0.0\n",
       "Precipitation(in)    0.0\n",
       "Weather_Condition    0.0\n",
       "Junction             0.0\n",
       "Stop                 0.0\n",
       "Traffic_Signal       0.0\n",
       "Sunrise_Sunset       0.0\n",
       "Zipcode              0.0\n",
       "duration(min)        0.0\n",
       "Day                  0.0\n",
       "Hour                 0.0\n",
       "weather              0.0\n",
       "dtype: float64"
      ]
     },
     "execution_count": 306,
     "metadata": {},
     "output_type": "execute_result"
    }
   ],
   "source": [
    "df.isnull().mean() * 100"
   ]
  },
  {
   "cell_type": "code",
   "execution_count": null,
   "metadata": {},
   "outputs": [],
   "source": [
    "#need to drop some duration vals, there are clear spikes at most hour marks"
   ]
  },
  {
   "cell_type": "code",
   "execution_count": 312,
   "metadata": {},
   "outputs": [
    {
     "data": {
      "text/plain": [
       "<AxesSubplot: ylabel='Frequency'>"
      ]
     },
     "execution_count": 312,
     "metadata": {},
     "output_type": "execute_result"
    },
    {
     "data": {
      "image/png": "[encoded data removed]",
      "text/plain": [
       "<Figure size 1700x1000 with 1 Axes>"
      ]
     },
     "metadata": {},
     "output_type": "display_data"
    }
   ],
   "source": [
    "df[\"duration(min)\"].plot(kind=\"hist\",bins=50)"
   ]
  },
  {
   "cell_type": "code",
   "execution_count": 308,
   "metadata": {},
   "outputs": [],
   "source": [
    "df[\"duration(min)\"].value_counts()"
   ]
  },
  {
   "cell_type": "code",
   "execution_count": 228,
   "metadata": {},
   "outputs": [],
   "source": [
    "#our data is clean, and we have a good weather column!\n",
    "#create X df that drops the dataframes we no longer want\n",
    "cols = [\"Severity\", \"Temperature(F)\", \"Visibility(mi)\", \"Precipitation(in)\", \"Junction\", \"Stop\", \"Traffic_Signal\", \"Sunrise_Sunset\", \"Day\", \"Hour\", \"weather\"]\n",
    "\n",
    "X = df[cols]"
   ]
  },
  {
   "cell_type": "code",
   "execution_count": 229,
   "metadata": {},
   "outputs": [
    {
     "data": {
      "text/html": [
       "<div>\n",
       "<style scoped>\n",
       "    .dataframe tbody tr th:only-of-type {\n",
       "        vertical-align: middle;\n",
       "    }\n",
       "\n",
       "    .dataframe tbody tr th {\n",
       "        vertical-align: top;\n",
       "    }\n",
       "\n",
       "    .dataframe thead th {\n",
       "        text-align: right;\n",
       "    }\n",
       "</style>\n",
       "<table border=\"1\" class=\"dataframe\">\n",
       "  <thead>\n",
       "    <tr style=\"text-align: right;\">\n",
       "      <th></th>\n",
       "      <th>Severity</th>\n",
       "      <th>Temperature(F)</th>\n",
       "      <th>Visibility(mi)</th>\n",
       "      <th>Precipitation(in)</th>\n",
       "      <th>Junction</th>\n",
       "      <th>Stop</th>\n",
       "      <th>Traffic_Signal</th>\n",
       "      <th>Sunrise_Sunset</th>\n",
       "      <th>Day</th>\n",
       "      <th>Hour</th>\n",
       "      <th>weather</th>\n",
       "    </tr>\n",
       "  </thead>\n",
       "  <tbody>\n",
       "    <tr>\n",
       "      <th>0</th>\n",
       "      <td>3</td>\n",
       "      <td>42.1</td>\n",
       "      <td>10.0</td>\n",
       "      <td>0.00</td>\n",
       "      <td>False</td>\n",
       "      <td>False</td>\n",
       "      <td>False</td>\n",
       "      <td>Night</td>\n",
       "      <td>Monday</td>\n",
       "      <td>0</td>\n",
       "      <td>rain</td>\n",
       "    </tr>\n",
       "    <tr>\n",
       "      <th>1</th>\n",
       "      <td>2</td>\n",
       "      <td>36.9</td>\n",
       "      <td>10.0</td>\n",
       "      <td>0.02</td>\n",
       "      <td>False</td>\n",
       "      <td>False</td>\n",
       "      <td>False</td>\n",
       "      <td>Night</td>\n",
       "      <td>Monday</td>\n",
       "      <td>5</td>\n",
       "      <td>rain</td>\n",
       "    </tr>\n",
       "    <tr>\n",
       "      <th>2</th>\n",
       "      <td>2</td>\n",
       "      <td>36.0</td>\n",
       "      <td>10.0</td>\n",
       "      <td>0.02</td>\n",
       "      <td>True</td>\n",
       "      <td>False</td>\n",
       "      <td>False</td>\n",
       "      <td>Night</td>\n",
       "      <td>Monday</td>\n",
       "      <td>6</td>\n",
       "      <td>cloudy</td>\n",
       "    </tr>\n",
       "    <tr>\n",
       "      <th>3</th>\n",
       "      <td>2</td>\n",
       "      <td>39.0</td>\n",
       "      <td>10.0</td>\n",
       "      <td>0.00</td>\n",
       "      <td>False</td>\n",
       "      <td>False</td>\n",
       "      <td>False</td>\n",
       "      <td>Night</td>\n",
       "      <td>Monday</td>\n",
       "      <td>6</td>\n",
       "      <td>cloudy</td>\n",
       "    </tr>\n",
       "    <tr>\n",
       "      <th>4</th>\n",
       "      <td>3</td>\n",
       "      <td>37.0</td>\n",
       "      <td>10.0</td>\n",
       "      <td>0.01</td>\n",
       "      <td>False</td>\n",
       "      <td>False</td>\n",
       "      <td>False</td>\n",
       "      <td>Day</td>\n",
       "      <td>Monday</td>\n",
       "      <td>7</td>\n",
       "      <td>rain</td>\n",
       "    </tr>\n",
       "  </tbody>\n",
       "</table>\n",
       "</div>"
      ],
      "text/plain": [
       "   Severity  Temperature(F)  Visibility(mi)  Precipitation(in)  Junction  \\\n",
       "0         3            42.1            10.0               0.00     False   \n",
       "1         2            36.9            10.0               0.02     False   \n",
       "2         2            36.0            10.0               0.02      True   \n",
       "3         2            39.0            10.0               0.00     False   \n",
       "4         3            37.0            10.0               0.01     False   \n",
       "\n",
       "    Stop  Traffic_Signal Sunrise_Sunset     Day  Hour weather  \n",
       "0  False           False          Night  Monday     0    rain  \n",
       "1  False           False          Night  Monday     5    rain  \n",
       "2  False           False          Night  Monday     6  cloudy  \n",
       "3  False           False          Night  Monday     6  cloudy  \n",
       "4  False           False            Day  Monday     7    rain  "
      ]
     },
     "execution_count": 229,
     "metadata": {},
     "output_type": "execute_result"
    }
   ],
   "source": [
    "X.head(5)"
   ]
  },
  {
   "cell_type": "code",
   "execution_count": 230,
   "metadata": {},
   "outputs": [],
   "source": [
    "#import ML packages\n",
    "from sklearn.preprocessing import OneHotEncoder, OrdinalEncoder\n",
    "from sklearn.model_selection import GridSearchCV, train_test_split\n",
    "from sklearn.pipeline import Pipeline\n",
    "from sklearn.ensemble import GradientBoostingRegressor"
   ]
  },
  {
   "cell_type": "code",
   "execution_count": null,
   "metadata": {},
   "outputs": [],
   "source": []
  }
 ],
 "metadata": {
  "kernelspec": {
   "display_name": "Python 3 (ipykernel)",
   "language": "python",
   "name": "python3"
  },
  "language_info": {
   "codemirror_mode": {
    "name": "ipython",
    "version": 3
   },
   "file_extension": ".py",
   "mimetype": "text/x-python",
   "name": "python",
   "nbconvert_exporter": "python",
   "pygments_lexer": "ipython3",
   "version": "3.10.8"
  },
  "vscode": {
   "interpreter": {
    "hash": "ad3957513903cb85101ca1600d012927cc60fedf829b7e41a3760e465a4d48ec"
   }
  }
 },
 "nbformat": 4,
 "nbformat_minor": 4
}
